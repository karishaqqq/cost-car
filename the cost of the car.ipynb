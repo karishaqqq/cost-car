{
 "cells": [
  {
   "cell_type": "markdown",
   "metadata": {},
   "source": [
    "# Определение стоимости автомобилей"
   ]
  },
  {
   "cell_type": "markdown",
   "metadata": {},
   "source": [
    "Сервис по продаже автомобилей с пробегом «Не бит, не крашен» разрабатывает приложение для привлечения новых клиентов. В нём можно быстро узнать рыночную стоимость своего автомобиля. В вашем распоряжении исторические данные: технические характеристики, комплектации и цены автомобилей. Вам нужно построить модель для определения стоимости. \n",
    "\n",
    "Заказчику важны:\n",
    "\n",
    "- качество предсказания;\n",
    "- скорость предсказания;\n",
    "- время обучения."
   ]
  },
  {
   "cell_type": "markdown",
   "metadata": {},
   "source": [
    "## Описание данных\n",
    "\n",
    "**Признаки**\n",
    "- DateCrawled — дата скачивания анкеты из базы\n",
    "- VehicleType — тип автомобильного кузова\n",
    "- RegistrationYear — год регистрации автомобиля\n",
    "- Gearbox — тип коробки передач\n",
    "- Power — мощность (л. с.)\n",
    "- Model — модель автомобиля\n",
    "- Kilometer — пробег (км)\n",
    "- RegistrationMonth — месяц регистрации автомобиля\n",
    "- FuelType — тип топлива\n",
    "- Brand — марка автомобиля\n",
    "- NotRepaired — была машина в ремонте или нет\n",
    "- DateCreated — дата создания анкеты\n",
    "- NumberOfPictures — количество фотографий автомобиля\n",
    "- PostalCode — почтовый индекс владельца анкеты (пользователя)\n",
    "- LastSeen — дата последней активности пользователя\n",
    "\n",
    "**Целевой признак**\n",
    "- Price — цена (евро)"
   ]
  },
  {
   "cell_type": "markdown",
   "metadata": {},
   "source": [
    "## Подготовка данных"
   ]
  },
  {
   "cell_type": "code",
   "execution_count": 1,
   "metadata": {},
   "outputs": [],
   "source": [
    "#импортируем необходимые библиотеки и инструменты\n",
    "import pandas as pd\n",
    "pd.options.mode.chained_assignment = None\n",
    "import numpy as np\n",
    "from sklearn.metrics import mean_squared_error\n",
    "from sklearn.preprocessing import StandardScaler, OrdinalEncoder\n",
    "from sklearn.model_selection import train_test_split, cross_val_score\n",
    "from sklearn.linear_model import LinearRegression\n",
    "from catboost import CatBoostRegressor\n",
    "import lightgbm as lgb\n",
    "from lightgbm import LGBMRegressor"
   ]
  },
  {
   "cell_type": "code",
   "execution_count": 2,
   "metadata": {},
   "outputs": [],
   "source": [
    "car_data = pd.read_csv('/datasets/autos.csv')"
   ]
  },
  {
   "cell_type": "code",
   "execution_count": 3,
   "metadata": {
    "scrolled": false
   },
   "outputs": [
    {
     "name": "stdout",
     "output_type": "stream",
     "text": [
      "<class 'pandas.core.frame.DataFrame'>\n",
      "RangeIndex: 354369 entries, 0 to 354368\n",
      "Data columns (total 16 columns):\n",
      " #   Column             Non-Null Count   Dtype \n",
      "---  ------             --------------   ----- \n",
      " 0   DateCrawled        354369 non-null  object\n",
      " 1   Price              354369 non-null  int64 \n",
      " 2   VehicleType        316879 non-null  object\n",
      " 3   RegistrationYear   354369 non-null  int64 \n",
      " 4   Gearbox            334536 non-null  object\n",
      " 5   Power              354369 non-null  int64 \n",
      " 6   Model              334664 non-null  object\n",
      " 7   Kilometer          354369 non-null  int64 \n",
      " 8   RegistrationMonth  354369 non-null  int64 \n",
      " 9   FuelType           321474 non-null  object\n",
      " 10  Brand              354369 non-null  object\n",
      " 11  NotRepaired        283215 non-null  object\n",
      " 12  DateCreated        354369 non-null  object\n",
      " 13  NumberOfPictures   354369 non-null  int64 \n",
      " 14  PostalCode         354369 non-null  int64 \n",
      " 15  LastSeen           354369 non-null  object\n",
      "dtypes: int64(7), object(9)\n",
      "memory usage: 43.3+ MB\n"
     ]
    },
    {
     "data": {
      "text/html": [
       "<div>\n",
       "<style scoped>\n",
       "    .dataframe tbody tr th:only-of-type {\n",
       "        vertical-align: middle;\n",
       "    }\n",
       "\n",
       "    .dataframe tbody tr th {\n",
       "        vertical-align: top;\n",
       "    }\n",
       "\n",
       "    .dataframe thead th {\n",
       "        text-align: right;\n",
       "    }\n",
       "</style>\n",
       "<table border=\"1\" class=\"dataframe\">\n",
       "  <thead>\n",
       "    <tr style=\"text-align: right;\">\n",
       "      <th></th>\n",
       "      <th>DateCrawled</th>\n",
       "      <th>Price</th>\n",
       "      <th>VehicleType</th>\n",
       "      <th>RegistrationYear</th>\n",
       "      <th>Gearbox</th>\n",
       "      <th>Power</th>\n",
       "      <th>Model</th>\n",
       "      <th>Kilometer</th>\n",
       "      <th>RegistrationMonth</th>\n",
       "      <th>FuelType</th>\n",
       "      <th>Brand</th>\n",
       "      <th>NotRepaired</th>\n",
       "      <th>DateCreated</th>\n",
       "      <th>NumberOfPictures</th>\n",
       "      <th>PostalCode</th>\n",
       "      <th>LastSeen</th>\n",
       "    </tr>\n",
       "  </thead>\n",
       "  <tbody>\n",
       "    <tr>\n",
       "      <th>0</th>\n",
       "      <td>2016-03-24 11:52:17</td>\n",
       "      <td>480</td>\n",
       "      <td>NaN</td>\n",
       "      <td>1993</td>\n",
       "      <td>manual</td>\n",
       "      <td>0</td>\n",
       "      <td>golf</td>\n",
       "      <td>150000</td>\n",
       "      <td>0</td>\n",
       "      <td>petrol</td>\n",
       "      <td>volkswagen</td>\n",
       "      <td>NaN</td>\n",
       "      <td>2016-03-24 00:00:00</td>\n",
       "      <td>0</td>\n",
       "      <td>70435</td>\n",
       "      <td>2016-04-07 03:16:57</td>\n",
       "    </tr>\n",
       "    <tr>\n",
       "      <th>1</th>\n",
       "      <td>2016-03-24 10:58:45</td>\n",
       "      <td>18300</td>\n",
       "      <td>coupe</td>\n",
       "      <td>2011</td>\n",
       "      <td>manual</td>\n",
       "      <td>190</td>\n",
       "      <td>NaN</td>\n",
       "      <td>125000</td>\n",
       "      <td>5</td>\n",
       "      <td>gasoline</td>\n",
       "      <td>audi</td>\n",
       "      <td>yes</td>\n",
       "      <td>2016-03-24 00:00:00</td>\n",
       "      <td>0</td>\n",
       "      <td>66954</td>\n",
       "      <td>2016-04-07 01:46:50</td>\n",
       "    </tr>\n",
       "    <tr>\n",
       "      <th>2</th>\n",
       "      <td>2016-03-14 12:52:21</td>\n",
       "      <td>9800</td>\n",
       "      <td>suv</td>\n",
       "      <td>2004</td>\n",
       "      <td>auto</td>\n",
       "      <td>163</td>\n",
       "      <td>grand</td>\n",
       "      <td>125000</td>\n",
       "      <td>8</td>\n",
       "      <td>gasoline</td>\n",
       "      <td>jeep</td>\n",
       "      <td>NaN</td>\n",
       "      <td>2016-03-14 00:00:00</td>\n",
       "      <td>0</td>\n",
       "      <td>90480</td>\n",
       "      <td>2016-04-05 12:47:46</td>\n",
       "    </tr>\n",
       "    <tr>\n",
       "      <th>3</th>\n",
       "      <td>2016-03-17 16:54:04</td>\n",
       "      <td>1500</td>\n",
       "      <td>small</td>\n",
       "      <td>2001</td>\n",
       "      <td>manual</td>\n",
       "      <td>75</td>\n",
       "      <td>golf</td>\n",
       "      <td>150000</td>\n",
       "      <td>6</td>\n",
       "      <td>petrol</td>\n",
       "      <td>volkswagen</td>\n",
       "      <td>no</td>\n",
       "      <td>2016-03-17 00:00:00</td>\n",
       "      <td>0</td>\n",
       "      <td>91074</td>\n",
       "      <td>2016-03-17 17:40:17</td>\n",
       "    </tr>\n",
       "    <tr>\n",
       "      <th>4</th>\n",
       "      <td>2016-03-31 17:25:20</td>\n",
       "      <td>3600</td>\n",
       "      <td>small</td>\n",
       "      <td>2008</td>\n",
       "      <td>manual</td>\n",
       "      <td>69</td>\n",
       "      <td>fabia</td>\n",
       "      <td>90000</td>\n",
       "      <td>7</td>\n",
       "      <td>gasoline</td>\n",
       "      <td>skoda</td>\n",
       "      <td>no</td>\n",
       "      <td>2016-03-31 00:00:00</td>\n",
       "      <td>0</td>\n",
       "      <td>60437</td>\n",
       "      <td>2016-04-06 10:17:21</td>\n",
       "    </tr>\n",
       "  </tbody>\n",
       "</table>\n",
       "</div>"
      ],
      "text/plain": [
       "           DateCrawled  Price VehicleType  RegistrationYear Gearbox  Power  \\\n",
       "0  2016-03-24 11:52:17    480         NaN              1993  manual      0   \n",
       "1  2016-03-24 10:58:45  18300       coupe              2011  manual    190   \n",
       "2  2016-03-14 12:52:21   9800         suv              2004    auto    163   \n",
       "3  2016-03-17 16:54:04   1500       small              2001  manual     75   \n",
       "4  2016-03-31 17:25:20   3600       small              2008  manual     69   \n",
       "\n",
       "   Model  Kilometer  RegistrationMonth  FuelType       Brand NotRepaired  \\\n",
       "0   golf     150000                  0    petrol  volkswagen         NaN   \n",
       "1    NaN     125000                  5  gasoline        audi         yes   \n",
       "2  grand     125000                  8  gasoline        jeep         NaN   \n",
       "3   golf     150000                  6    petrol  volkswagen          no   \n",
       "4  fabia      90000                  7  gasoline       skoda          no   \n",
       "\n",
       "           DateCreated  NumberOfPictures  PostalCode             LastSeen  \n",
       "0  2016-03-24 00:00:00                 0       70435  2016-04-07 03:16:57  \n",
       "1  2016-03-24 00:00:00                 0       66954  2016-04-07 01:46:50  \n",
       "2  2016-03-14 00:00:00                 0       90480  2016-04-05 12:47:46  \n",
       "3  2016-03-17 00:00:00                 0       91074  2016-03-17 17:40:17  \n",
       "4  2016-03-31 00:00:00                 0       60437  2016-04-06 10:17:21  "
      ]
     },
     "execution_count": 3,
     "metadata": {},
     "output_type": "execute_result"
    }
   ],
   "source": [
    "car_data.info()\n",
    "car_data.head()"
   ]
  },
  {
   "cell_type": "markdown",
   "metadata": {},
   "source": [
    "При первом взгляде на датасет заметно, что в нем есть пропуски, а также много ненужных столбцов, например:\n",
    "- DateCrawled — дата скачивания анкеты из базы\n",
    "- RegistrationMonth — месяц регистрации автомобиля\n",
    "- DateCreated — дата создания анкеты\n",
    "- NumberOfPictures — количество фотографий автомобиля\n",
    "- PostalCode — почтовый индекс владельца анкеты (пользователя)\n",
    "- LastSeen — дата последней активности пользователя\n",
    "\n",
    "Избавимся от них и перейдем к обратке пропусков."
   ]
  },
  {
   "cell_type": "code",
   "execution_count": 4,
   "metadata": {},
   "outputs": [],
   "source": [
    "cars_data = car_data.drop(['DateCrawled', 'RegistrationMonth', 'DateCreated', 'NumberOfPictures', 'PostalCode', 'LastSeen'], axis='columns')"
   ]
  },
  {
   "cell_type": "code",
   "execution_count": 5,
   "metadata": {
    "scrolled": false
   },
   "outputs": [
    {
     "name": "stdout",
     "output_type": "stream",
     "text": [
      "<class 'pandas.core.frame.DataFrame'>\n",
      "RangeIndex: 354369 entries, 0 to 354368\n",
      "Data columns (total 10 columns):\n",
      " #   Column            Non-Null Count   Dtype \n",
      "---  ------            --------------   ----- \n",
      " 0   Price             354369 non-null  int64 \n",
      " 1   VehicleType       316879 non-null  object\n",
      " 2   RegistrationYear  354369 non-null  int64 \n",
      " 3   Gearbox           334536 non-null  object\n",
      " 4   Power             354369 non-null  int64 \n",
      " 5   Model             334664 non-null  object\n",
      " 6   Kilometer         354369 non-null  int64 \n",
      " 7   FuelType          321474 non-null  object\n",
      " 8   Brand             354369 non-null  object\n",
      " 9   NotRepaired       283215 non-null  object\n",
      "dtypes: int64(4), object(6)\n",
      "memory usage: 27.0+ MB\n"
     ]
    },
    {
     "data": {
      "text/html": [
       "<div>\n",
       "<style scoped>\n",
       "    .dataframe tbody tr th:only-of-type {\n",
       "        vertical-align: middle;\n",
       "    }\n",
       "\n",
       "    .dataframe tbody tr th {\n",
       "        vertical-align: top;\n",
       "    }\n",
       "\n",
       "    .dataframe thead th {\n",
       "        text-align: right;\n",
       "    }\n",
       "</style>\n",
       "<table border=\"1\" class=\"dataframe\">\n",
       "  <thead>\n",
       "    <tr style=\"text-align: right;\">\n",
       "      <th></th>\n",
       "      <th>Price</th>\n",
       "      <th>VehicleType</th>\n",
       "      <th>RegistrationYear</th>\n",
       "      <th>Gearbox</th>\n",
       "      <th>Power</th>\n",
       "      <th>Model</th>\n",
       "      <th>Kilometer</th>\n",
       "      <th>FuelType</th>\n",
       "      <th>Brand</th>\n",
       "      <th>NotRepaired</th>\n",
       "    </tr>\n",
       "  </thead>\n",
       "  <tbody>\n",
       "    <tr>\n",
       "      <th>0</th>\n",
       "      <td>480</td>\n",
       "      <td>NaN</td>\n",
       "      <td>1993</td>\n",
       "      <td>manual</td>\n",
       "      <td>0</td>\n",
       "      <td>golf</td>\n",
       "      <td>150000</td>\n",
       "      <td>petrol</td>\n",
       "      <td>volkswagen</td>\n",
       "      <td>NaN</td>\n",
       "    </tr>\n",
       "    <tr>\n",
       "      <th>1</th>\n",
       "      <td>18300</td>\n",
       "      <td>coupe</td>\n",
       "      <td>2011</td>\n",
       "      <td>manual</td>\n",
       "      <td>190</td>\n",
       "      <td>NaN</td>\n",
       "      <td>125000</td>\n",
       "      <td>gasoline</td>\n",
       "      <td>audi</td>\n",
       "      <td>yes</td>\n",
       "    </tr>\n",
       "    <tr>\n",
       "      <th>2</th>\n",
       "      <td>9800</td>\n",
       "      <td>suv</td>\n",
       "      <td>2004</td>\n",
       "      <td>auto</td>\n",
       "      <td>163</td>\n",
       "      <td>grand</td>\n",
       "      <td>125000</td>\n",
       "      <td>gasoline</td>\n",
       "      <td>jeep</td>\n",
       "      <td>NaN</td>\n",
       "    </tr>\n",
       "    <tr>\n",
       "      <th>3</th>\n",
       "      <td>1500</td>\n",
       "      <td>small</td>\n",
       "      <td>2001</td>\n",
       "      <td>manual</td>\n",
       "      <td>75</td>\n",
       "      <td>golf</td>\n",
       "      <td>150000</td>\n",
       "      <td>petrol</td>\n",
       "      <td>volkswagen</td>\n",
       "      <td>no</td>\n",
       "    </tr>\n",
       "    <tr>\n",
       "      <th>4</th>\n",
       "      <td>3600</td>\n",
       "      <td>small</td>\n",
       "      <td>2008</td>\n",
       "      <td>manual</td>\n",
       "      <td>69</td>\n",
       "      <td>fabia</td>\n",
       "      <td>90000</td>\n",
       "      <td>gasoline</td>\n",
       "      <td>skoda</td>\n",
       "      <td>no</td>\n",
       "    </tr>\n",
       "  </tbody>\n",
       "</table>\n",
       "</div>"
      ],
      "text/plain": [
       "   Price VehicleType  RegistrationYear Gearbox  Power  Model  Kilometer  \\\n",
       "0    480         NaN              1993  manual      0   golf     150000   \n",
       "1  18300       coupe              2011  manual    190    NaN     125000   \n",
       "2   9800         suv              2004    auto    163  grand     125000   \n",
       "3   1500       small              2001  manual     75   golf     150000   \n",
       "4   3600       small              2008  manual     69  fabia      90000   \n",
       "\n",
       "   FuelType       Brand NotRepaired  \n",
       "0    petrol  volkswagen         NaN  \n",
       "1  gasoline        audi         yes  \n",
       "2  gasoline        jeep         NaN  \n",
       "3    petrol  volkswagen          no  \n",
       "4  gasoline       skoda          no  "
      ]
     },
     "execution_count": 5,
     "metadata": {},
     "output_type": "execute_result"
    }
   ],
   "source": [
    "cars_data.info()\n",
    "cars_data.head()"
   ]
  },
  {
   "cell_type": "markdown",
   "metadata": {},
   "source": [
    "Пропуски есть в столбцах `VehicleType`, `Gearbox`, `Model`, `FuelType`, `NotRepaired`. Пропуски в vehicle_type, gearbox, fuel_type заполним, исходя из бренда и модели автомобиля. Остальные NaN-ы заменим нетипичным значением `unk` - модель воспримет их как отдельную категорию."
   ]
  },
  {
   "cell_type": "code",
   "execution_count": 6,
   "metadata": {},
   "outputs": [],
   "source": [
    "cars_data['Name'] = cars_data['Brand'] + ' ' + cars_data['Model']\n",
    "# заполняем пропуски в Gearbox\n",
    "names_gb = [name for name in list(cars_data[cars_data['Gearbox'].isna()]['Name'].unique()) if isinstance(name, str) == True]\n",
    "\n",
    "for name in names_gb:\n",
    "    cars_data.loc[(cars_data['Name']==name)&(cars_data['Gearbox'].isna()), 'Gearbox'] = cars_data[cars_data['Name']==name]['Gearbox'].value_counts().index[0]"
   ]
  },
  {
   "cell_type": "code",
   "execution_count": 7,
   "metadata": {},
   "outputs": [],
   "source": [
    "# заполняем пропуски в VehicleType\n",
    "names_vt = [name for name in list(cars_data[cars_data['VehicleType'].isna()]['Name'].unique()) if isinstance(name, str) == True]\n",
    "\n",
    "for name in names_vt:\n",
    "    cars_data.loc[(cars_data['Name']==name)&(cars_data['VehicleType'].isna()), 'VehicleType'] = cars_data[cars_data['Name']==name]['VehicleType'].value_counts().index[0]"
   ]
  },
  {
   "cell_type": "code",
   "execution_count": 8,
   "metadata": {},
   "outputs": [],
   "source": [
    "# заполняем пропуски в FuelType\n",
    "names_ft = [name for name in list(cars_data[cars_data['FuelType'].isna()]['Name'].unique()) if isinstance(name, str) == True]\n",
    "\n",
    "for name in names_ft:\n",
    "    cars_data.loc[(cars_data['Name']==name)&(cars_data['FuelType'].isna()), 'FuelType'] = cars_data[cars_data['Name']==name]['FuelType'].value_counts().index[0]"
   ]
  },
  {
   "cell_type": "code",
   "execution_count": 9,
   "metadata": {
    "scrolled": true
   },
   "outputs": [
    {
     "data": {
      "text/html": [
       "<div>\n",
       "<style scoped>\n",
       "    .dataframe tbody tr th:only-of-type {\n",
       "        vertical-align: middle;\n",
       "    }\n",
       "\n",
       "    .dataframe tbody tr th {\n",
       "        vertical-align: top;\n",
       "    }\n",
       "\n",
       "    .dataframe thead th {\n",
       "        text-align: right;\n",
       "    }\n",
       "</style>\n",
       "<table border=\"1\" class=\"dataframe\">\n",
       "  <thead>\n",
       "    <tr style=\"text-align: right;\">\n",
       "      <th></th>\n",
       "      <th>Price</th>\n",
       "      <th>VehicleType</th>\n",
       "      <th>RegistrationYear</th>\n",
       "      <th>Gearbox</th>\n",
       "      <th>Power</th>\n",
       "      <th>Model</th>\n",
       "      <th>Kilometer</th>\n",
       "      <th>FuelType</th>\n",
       "      <th>Brand</th>\n",
       "      <th>NotRepaired</th>\n",
       "      <th>Name</th>\n",
       "    </tr>\n",
       "  </thead>\n",
       "  <tbody>\n",
       "    <tr>\n",
       "      <th>0</th>\n",
       "      <td>480</td>\n",
       "      <td>sedan</td>\n",
       "      <td>1993</td>\n",
       "      <td>manual</td>\n",
       "      <td>0</td>\n",
       "      <td>golf</td>\n",
       "      <td>150000</td>\n",
       "      <td>petrol</td>\n",
       "      <td>volkswagen</td>\n",
       "      <td>unk</td>\n",
       "      <td>volkswagen golf</td>\n",
       "    </tr>\n",
       "    <tr>\n",
       "      <th>1</th>\n",
       "      <td>18300</td>\n",
       "      <td>coupe</td>\n",
       "      <td>2011</td>\n",
       "      <td>manual</td>\n",
       "      <td>190</td>\n",
       "      <td>unk</td>\n",
       "      <td>125000</td>\n",
       "      <td>gasoline</td>\n",
       "      <td>audi</td>\n",
       "      <td>yes</td>\n",
       "      <td>unk</td>\n",
       "    </tr>\n",
       "    <tr>\n",
       "      <th>2</th>\n",
       "      <td>9800</td>\n",
       "      <td>suv</td>\n",
       "      <td>2004</td>\n",
       "      <td>auto</td>\n",
       "      <td>163</td>\n",
       "      <td>grand</td>\n",
       "      <td>125000</td>\n",
       "      <td>gasoline</td>\n",
       "      <td>jeep</td>\n",
       "      <td>unk</td>\n",
       "      <td>jeep grand</td>\n",
       "    </tr>\n",
       "    <tr>\n",
       "      <th>3</th>\n",
       "      <td>1500</td>\n",
       "      <td>small</td>\n",
       "      <td>2001</td>\n",
       "      <td>manual</td>\n",
       "      <td>75</td>\n",
       "      <td>golf</td>\n",
       "      <td>150000</td>\n",
       "      <td>petrol</td>\n",
       "      <td>volkswagen</td>\n",
       "      <td>no</td>\n",
       "      <td>volkswagen golf</td>\n",
       "    </tr>\n",
       "    <tr>\n",
       "      <th>4</th>\n",
       "      <td>3600</td>\n",
       "      <td>small</td>\n",
       "      <td>2008</td>\n",
       "      <td>manual</td>\n",
       "      <td>69</td>\n",
       "      <td>fabia</td>\n",
       "      <td>90000</td>\n",
       "      <td>gasoline</td>\n",
       "      <td>skoda</td>\n",
       "      <td>no</td>\n",
       "      <td>skoda fabia</td>\n",
       "    </tr>\n",
       "  </tbody>\n",
       "</table>\n",
       "</div>"
      ],
      "text/plain": [
       "   Price VehicleType  RegistrationYear Gearbox  Power  Model  Kilometer  \\\n",
       "0    480       sedan              1993  manual      0   golf     150000   \n",
       "1  18300       coupe              2011  manual    190    unk     125000   \n",
       "2   9800         suv              2004    auto    163  grand     125000   \n",
       "3   1500       small              2001  manual     75   golf     150000   \n",
       "4   3600       small              2008  manual     69  fabia      90000   \n",
       "\n",
       "   FuelType       Brand NotRepaired             Name  \n",
       "0    petrol  volkswagen         unk  volkswagen golf  \n",
       "1  gasoline        audi         yes              unk  \n",
       "2  gasoline        jeep         unk       jeep grand  \n",
       "3    petrol  volkswagen          no  volkswagen golf  \n",
       "4  gasoline       skoda          no      skoda fabia  "
      ]
     },
     "execution_count": 9,
     "metadata": {},
     "output_type": "execute_result"
    }
   ],
   "source": [
    "cars_data.fillna(value='unk', inplace=True)\n",
    "cars_data.head()"
   ]
  },
  {
   "cell_type": "markdown",
   "metadata": {},
   "source": [
    "Посмотрим теперь на дубликаты в данных, удалим их:\n"
   ]
  },
  {
   "cell_type": "code",
   "execution_count": 10,
   "metadata": {},
   "outputs": [
    {
     "data": {
      "text/html": [
       "<div>\n",
       "<style scoped>\n",
       "    .dataframe tbody tr th:only-of-type {\n",
       "        vertical-align: middle;\n",
       "    }\n",
       "\n",
       "    .dataframe tbody tr th {\n",
       "        vertical-align: top;\n",
       "    }\n",
       "\n",
       "    .dataframe thead th {\n",
       "        text-align: right;\n",
       "    }\n",
       "</style>\n",
       "<table border=\"1\" class=\"dataframe\">\n",
       "  <thead>\n",
       "    <tr style=\"text-align: right;\">\n",
       "      <th></th>\n",
       "      <th>Price</th>\n",
       "      <th>VehicleType</th>\n",
       "      <th>RegistrationYear</th>\n",
       "      <th>Gearbox</th>\n",
       "      <th>Power</th>\n",
       "      <th>Model</th>\n",
       "      <th>Kilometer</th>\n",
       "      <th>FuelType</th>\n",
       "      <th>Brand</th>\n",
       "      <th>NotRepaired</th>\n",
       "      <th>Name</th>\n",
       "    </tr>\n",
       "  </thead>\n",
       "  <tbody>\n",
       "    <tr>\n",
       "      <th>1117</th>\n",
       "      <td>950</td>\n",
       "      <td>small</td>\n",
       "      <td>1999</td>\n",
       "      <td>manual</td>\n",
       "      <td>60</td>\n",
       "      <td>polo</td>\n",
       "      <td>150000</td>\n",
       "      <td>petrol</td>\n",
       "      <td>volkswagen</td>\n",
       "      <td>no</td>\n",
       "      <td>volkswagen polo</td>\n",
       "    </tr>\n",
       "    <tr>\n",
       "      <th>1396</th>\n",
       "      <td>0</td>\n",
       "      <td>unk</td>\n",
       "      <td>2000</td>\n",
       "      <td>unk</td>\n",
       "      <td>0</td>\n",
       "      <td>unk</td>\n",
       "      <td>150000</td>\n",
       "      <td>unk</td>\n",
       "      <td>volvo</td>\n",
       "      <td>unk</td>\n",
       "      <td>unk</td>\n",
       "    </tr>\n",
       "    <tr>\n",
       "      <th>2169</th>\n",
       "      <td>0</td>\n",
       "      <td>coupe</td>\n",
       "      <td>2002</td>\n",
       "      <td>manual</td>\n",
       "      <td>129</td>\n",
       "      <td>c_klasse</td>\n",
       "      <td>150000</td>\n",
       "      <td>petrol</td>\n",
       "      <td>mercedes_benz</td>\n",
       "      <td>no</td>\n",
       "      <td>mercedes_benz c_klasse</td>\n",
       "    </tr>\n",
       "    <tr>\n",
       "      <th>2833</th>\n",
       "      <td>1499</td>\n",
       "      <td>small</td>\n",
       "      <td>2001</td>\n",
       "      <td>manual</td>\n",
       "      <td>58</td>\n",
       "      <td>corsa</td>\n",
       "      <td>150000</td>\n",
       "      <td>petrol</td>\n",
       "      <td>opel</td>\n",
       "      <td>no</td>\n",
       "      <td>opel corsa</td>\n",
       "    </tr>\n",
       "    <tr>\n",
       "      <th>3025</th>\n",
       "      <td>2800</td>\n",
       "      <td>wagon</td>\n",
       "      <td>2005</td>\n",
       "      <td>manual</td>\n",
       "      <td>0</td>\n",
       "      <td>touran</td>\n",
       "      <td>150000</td>\n",
       "      <td>gasoline</td>\n",
       "      <td>volkswagen</td>\n",
       "      <td>no</td>\n",
       "      <td>volkswagen touran</td>\n",
       "    </tr>\n",
       "    <tr>\n",
       "      <th>...</th>\n",
       "      <td>...</td>\n",
       "      <td>...</td>\n",
       "      <td>...</td>\n",
       "      <td>...</td>\n",
       "      <td>...</td>\n",
       "      <td>...</td>\n",
       "      <td>...</td>\n",
       "      <td>...</td>\n",
       "      <td>...</td>\n",
       "      <td>...</td>\n",
       "      <td>...</td>\n",
       "    </tr>\n",
       "    <tr>\n",
       "      <th>354352</th>\n",
       "      <td>6500</td>\n",
       "      <td>sedan</td>\n",
       "      <td>2003</td>\n",
       "      <td>auto</td>\n",
       "      <td>145</td>\n",
       "      <td>e_klasse</td>\n",
       "      <td>150000</td>\n",
       "      <td>gasoline</td>\n",
       "      <td>mercedes_benz</td>\n",
       "      <td>no</td>\n",
       "      <td>mercedes_benz e_klasse</td>\n",
       "    </tr>\n",
       "    <tr>\n",
       "      <th>354355</th>\n",
       "      <td>4400</td>\n",
       "      <td>sedan</td>\n",
       "      <td>2008</td>\n",
       "      <td>manual</td>\n",
       "      <td>105</td>\n",
       "      <td>leon</td>\n",
       "      <td>150000</td>\n",
       "      <td>gasoline</td>\n",
       "      <td>seat</td>\n",
       "      <td>no</td>\n",
       "      <td>seat leon</td>\n",
       "    </tr>\n",
       "    <tr>\n",
       "      <th>354358</th>\n",
       "      <td>1490</td>\n",
       "      <td>small</td>\n",
       "      <td>1998</td>\n",
       "      <td>manual</td>\n",
       "      <td>50</td>\n",
       "      <td>lupo</td>\n",
       "      <td>150000</td>\n",
       "      <td>petrol</td>\n",
       "      <td>volkswagen</td>\n",
       "      <td>no</td>\n",
       "      <td>volkswagen lupo</td>\n",
       "    </tr>\n",
       "    <tr>\n",
       "      <th>354359</th>\n",
       "      <td>7900</td>\n",
       "      <td>sedan</td>\n",
       "      <td>2010</td>\n",
       "      <td>manual</td>\n",
       "      <td>140</td>\n",
       "      <td>golf</td>\n",
       "      <td>150000</td>\n",
       "      <td>gasoline</td>\n",
       "      <td>volkswagen</td>\n",
       "      <td>no</td>\n",
       "      <td>volkswagen golf</td>\n",
       "    </tr>\n",
       "    <tr>\n",
       "      <th>354363</th>\n",
       "      <td>1150</td>\n",
       "      <td>bus</td>\n",
       "      <td>2000</td>\n",
       "      <td>manual</td>\n",
       "      <td>0</td>\n",
       "      <td>zafira</td>\n",
       "      <td>150000</td>\n",
       "      <td>petrol</td>\n",
       "      <td>opel</td>\n",
       "      <td>no</td>\n",
       "      <td>opel zafira</td>\n",
       "    </tr>\n",
       "  </tbody>\n",
       "</table>\n",
       "<p>48814 rows × 11 columns</p>\n",
       "</div>"
      ],
      "text/plain": [
       "        Price VehicleType  RegistrationYear Gearbox  Power     Model  \\\n",
       "1117      950       small              1999  manual     60      polo   \n",
       "1396        0         unk              2000     unk      0       unk   \n",
       "2169        0       coupe              2002  manual    129  c_klasse   \n",
       "2833     1499       small              2001  manual     58     corsa   \n",
       "3025     2800       wagon              2005  manual      0    touran   \n",
       "...       ...         ...               ...     ...    ...       ...   \n",
       "354352   6500       sedan              2003    auto    145  e_klasse   \n",
       "354355   4400       sedan              2008  manual    105      leon   \n",
       "354358   1490       small              1998  manual     50      lupo   \n",
       "354359   7900       sedan              2010  manual    140      golf   \n",
       "354363   1150         bus              2000  manual      0    zafira   \n",
       "\n",
       "        Kilometer  FuelType          Brand NotRepaired                    Name  \n",
       "1117       150000    petrol     volkswagen          no         volkswagen polo  \n",
       "1396       150000       unk          volvo         unk                     unk  \n",
       "2169       150000    petrol  mercedes_benz          no  mercedes_benz c_klasse  \n",
       "2833       150000    petrol           opel          no              opel corsa  \n",
       "3025       150000  gasoline     volkswagen          no       volkswagen touran  \n",
       "...           ...       ...            ...         ...                     ...  \n",
       "354352     150000  gasoline  mercedes_benz          no  mercedes_benz e_klasse  \n",
       "354355     150000  gasoline           seat          no               seat leon  \n",
       "354358     150000    petrol     volkswagen          no         volkswagen lupo  \n",
       "354359     150000  gasoline     volkswagen          no         volkswagen golf  \n",
       "354363     150000    petrol           opel          no             opel zafira  \n",
       "\n",
       "[48814 rows x 11 columns]"
      ]
     },
     "execution_count": 10,
     "metadata": {},
     "output_type": "execute_result"
    }
   ],
   "source": [
    "cars_data[cars_data.duplicated()==True]"
   ]
  },
  {
   "cell_type": "code",
   "execution_count": 11,
   "metadata": {},
   "outputs": [],
   "source": [
    "cars_data.drop_duplicates(inplace=True)"
   ]
  },
  {
   "cell_type": "markdown",
   "metadata": {},
   "source": [
    "Проверим датасет на наличие выбросов."
   ]
  },
  {
   "cell_type": "code",
   "execution_count": 12,
   "metadata": {
    "scrolled": false
   },
   "outputs": [
    {
     "data": {
      "text/plain": [
       "<AxesSubplot:>"
      ]
     },
     "execution_count": 12,
     "metadata": {},
     "output_type": "execute_result"
    },
    {
     "data": {
      "image/png": "[encoded data removed]",
      "text/plain": [
       "<Figure size 432x288 with 1 Axes>"
      ]
     },
     "metadata": {
      "needs_background": "light"
     },
     "output_type": "display_data"
    }
   ],
   "source": [
    "cars_data.boxplot()"
   ]
  },
  {
   "cell_type": "markdown",
   "metadata": {},
   "source": [
    " Год регистрации не может быть меньше 1931, когда был зарегистрирован первый автомобиль:"
   ]
  },
  {
   "cell_type": "code",
   "execution_count": 13,
   "metadata": {},
   "outputs": [],
   "source": [
    "cars_data = cars_data.query('RegistrationYear <= 2022 and RegistrationYear >= 1931')"
   ]
  },
  {
   "cell_type": "markdown",
   "metadata": {},
   "source": [
    " Самая маленькая из существующих мощность автомобиля 4 л.с, на втором месте 8 л.с. Примем 8 л.с за отметку корректных цифр. В данных машин больше 0 л.с, но меньше 8 л.с всего 195. Можно ими пренебречь, т.к это очень маленькая доля от общего объема данных. Также можно пренбречь аномально высокими мощностями, их также пренебрижимо мало\n"
   ]
  },
  {
   "cell_type": "code",
   "execution_count": 14,
   "metadata": {},
   "outputs": [
    {
     "data": {
      "text/plain": [
       "Price               195\n",
       "VehicleType         195\n",
       "RegistrationYear    195\n",
       "Gearbox             195\n",
       "Power               195\n",
       "Model               195\n",
       "Kilometer           195\n",
       "FuelType            195\n",
       "Brand               195\n",
       "NotRepaired         195\n",
       "Name                195\n",
       "dtype: int64"
      ]
     },
     "execution_count": 14,
     "metadata": {},
     "output_type": "execute_result"
    }
   ],
   "source": [
    "cars_data[(cars_data['Power']>0) & (cars_data['Power']<8)].count()"
   ]
  },
  {
   "cell_type": "code",
   "execution_count": 15,
   "metadata": {},
   "outputs": [
    {
     "data": {
      "text/plain": [
       "Price               208\n",
       "VehicleType         208\n",
       "RegistrationYear    208\n",
       "Gearbox             208\n",
       "Power               208\n",
       "Model               208\n",
       "Kilometer           208\n",
       "FuelType            208\n",
       "Brand               208\n",
       "NotRepaired         208\n",
       "Name                208\n",
       "dtype: int64"
      ]
     },
     "execution_count": 15,
     "metadata": {},
     "output_type": "execute_result"
    }
   ],
   "source": [
    "cars_data[cars_data['Power']>1400].count() "
   ]
  },
  {
   "cell_type": "code",
   "execution_count": 16,
   "metadata": {},
   "outputs": [],
   "source": [
    "cars_data = cars_data.query('Power <= 1400 and Power >= 8')"
   ]
  },
  {
   "cell_type": "markdown",
   "metadata": {},
   "source": [
    "Удалим нулевые значения в признаке price\n"
   ]
  },
  {
   "cell_type": "code",
   "execution_count": 17,
   "metadata": {},
   "outputs": [
    {
     "data": {
      "text/plain": [
       "Price               5690\n",
       "VehicleType         5690\n",
       "RegistrationYear    5690\n",
       "Gearbox             5690\n",
       "Power               5690\n",
       "Model               5690\n",
       "Kilometer           5690\n",
       "FuelType            5690\n",
       "Brand               5690\n",
       "NotRepaired         5690\n",
       "Name                5690\n",
       "dtype: int64"
      ]
     },
     "execution_count": 17,
     "metadata": {},
     "output_type": "execute_result"
    }
   ],
   "source": [
    "cars_data[cars_data['Price']==0].count() "
   ]
  },
  {
   "cell_type": "code",
   "execution_count": 18,
   "metadata": {},
   "outputs": [],
   "source": [
    "cars_data = cars_data[cars_data['Price']>0]"
   ]
  },
  {
   "cell_type": "code",
   "execution_count": 19,
   "metadata": {},
   "outputs": [
    {
     "data": {
      "text/plain": [
       "(264556, 11)"
      ]
     },
     "execution_count": 19,
     "metadata": {},
     "output_type": "execute_result"
    }
   ],
   "source": [
    "cars_data.shape"
   ]
  },
  {
   "cell_type": "code",
   "execution_count": 20,
   "metadata": {},
   "outputs": [
    {
     "data": {
      "text/html": [
       "<div>\n",
       "<style scoped>\n",
       "    .dataframe tbody tr th:only-of-type {\n",
       "        vertical-align: middle;\n",
       "    }\n",
       "\n",
       "    .dataframe tbody tr th {\n",
       "        vertical-align: top;\n",
       "    }\n",
       "\n",
       "    .dataframe thead th {\n",
       "        text-align: right;\n",
       "    }\n",
       "</style>\n",
       "<table border=\"1\" class=\"dataframe\">\n",
       "  <thead>\n",
       "    <tr style=\"text-align: right;\">\n",
       "      <th></th>\n",
       "      <th>Price</th>\n",
       "      <th>RegistrationYear</th>\n",
       "      <th>Power</th>\n",
       "      <th>Kilometer</th>\n",
       "    </tr>\n",
       "  </thead>\n",
       "  <tbody>\n",
       "    <tr>\n",
       "      <th>Price</th>\n",
       "      <td>1.000000</td>\n",
       "      <td>0.407566</td>\n",
       "      <td>0.454868</td>\n",
       "      <td>-0.374438</td>\n",
       "    </tr>\n",
       "    <tr>\n",
       "      <th>RegistrationYear</th>\n",
       "      <td>0.407566</td>\n",
       "      <td>1.000000</td>\n",
       "      <td>0.086295</td>\n",
       "      <td>-0.238839</td>\n",
       "    </tr>\n",
       "    <tr>\n",
       "      <th>Power</th>\n",
       "      <td>0.454868</td>\n",
       "      <td>0.086295</td>\n",
       "      <td>1.000000</td>\n",
       "      <td>0.111929</td>\n",
       "    </tr>\n",
       "    <tr>\n",
       "      <th>Kilometer</th>\n",
       "      <td>-0.374438</td>\n",
       "      <td>-0.238839</td>\n",
       "      <td>0.111929</td>\n",
       "      <td>1.000000</td>\n",
       "    </tr>\n",
       "  </tbody>\n",
       "</table>\n",
       "</div>"
      ],
      "text/plain": [
       "                     Price  RegistrationYear     Power  Kilometer\n",
       "Price             1.000000          0.407566  0.454868  -0.374438\n",
       "RegistrationYear  0.407566          1.000000  0.086295  -0.238839\n",
       "Power             0.454868          0.086295  1.000000   0.111929\n",
       "Kilometer        -0.374438         -0.238839  0.111929   1.000000"
      ]
     },
     "execution_count": 20,
     "metadata": {},
     "output_type": "execute_result"
    }
   ],
   "source": [
    "cars_data.corr()"
   ]
  },
  {
   "cell_type": "markdown",
   "metadata": {},
   "source": [
    "Добавила таблицу корреляции признаков, чтобы убедиться в правильности своей предобработке. Самая выысокая корреляция у года регистрации ТС с мощностью. Также мощность и год регистрации коррелирует с ценой. Что вполне логично. "
   ]
  },
  {
   "cell_type": "markdown",
   "metadata": {},
   "source": [
    "## Обучение и анализ моделей"
   ]
  },
  {
   "cell_type": "markdown",
   "metadata": {},
   "source": [
    "Задействуем технику прямого кодирования, чтобы преобразовать категориальные признаки в численные."
   ]
  },
  {
   "cell_type": "code",
   "execution_count": 21,
   "metadata": {},
   "outputs": [],
   "source": [
    "cars_data_ohe = pd.get_dummies(cars_data, drop_first=True)\n"
   ]
  },
  {
   "cell_type": "markdown",
   "metadata": {},
   "source": [
    "Подготовим признаки и целевой признак, а затем разделим данные на обучающую и тестовую выборки."
   ]
  },
  {
   "cell_type": "code",
   "execution_count": 22,
   "metadata": {},
   "outputs": [],
   "source": [
    "#признаки для обучения модели линейной регрессии\n",
    "features_lr = cars_data_ohe.drop(['Price'], axis = 1)\n",
    "target_lr = cars_data_ohe['Price']"
   ]
  },
  {
   "cell_type": "markdown",
   "metadata": {},
   "source": [
    "Преобразуем столбцы с категориальными признаки в тип данных category"
   ]
  },
  {
   "cell_type": "code",
   "execution_count": 51,
   "metadata": {},
   "outputs": [],
   "source": [
    "categorical = ['VehicleType', 'Gearbox', 'Model','Brand','FuelType', 'NotRepaired']"
   ]
  },
  {
   "cell_type": "code",
   "execution_count": 52,
   "metadata": {},
   "outputs": [],
   "source": [
    "for col in categorical:\n",
    "    cars_data[col] = cars_data[col].astype('category')"
   ]
  },
  {
   "cell_type": "code",
   "execution_count": 53,
   "metadata": {},
   "outputs": [],
   "source": [
    "#признаки для обучения моделей CBR и LGBM\n",
    "features = cars_data.drop(['Price'], axis = 1)\n",
    "target = cars_data['Price']"
   ]
  },
  {
   "cell_type": "code",
   "execution_count": 54,
   "metadata": {},
   "outputs": [],
   "source": [
    "features_train_lr, features_test_lr, target_train_lr, target_test_lr = train_test_split(features_lr, target_lr, test_size=.25, random_state=12345)"
   ]
  },
  {
   "cell_type": "code",
   "execution_count": 55,
   "metadata": {},
   "outputs": [],
   "source": [
    "features_train, features_test, target_train, target_test = train_test_split(features, target, test_size=.25, random_state=12345)"
   ]
  },
  {
   "cell_type": "markdown",
   "metadata": {},
   "source": [
    "Масштабируем численные признаки"
   ]
  },
  {
   "cell_type": "code",
   "execution_count": 56,
   "metadata": {},
   "outputs": [],
   "source": [
    "numeric = ['Power', 'RegistrationYear', 'Kilometer' ]"
   ]
  },
  {
   "cell_type": "code",
   "execution_count": 57,
   "metadata": {},
   "outputs": [],
   "source": [
    "scaler = StandardScaler()\n",
    "scaler.fit(features_train_lr[numeric])\n",
    "features_train_lr[numeric] = scaler.transform(features_train_lr[numeric])\n",
    "features_test_lr[numeric] = scaler.transform(features_test_lr[numeric])"
   ]
  },
  {
   "cell_type": "code",
   "execution_count": 58,
   "metadata": {},
   "outputs": [],
   "source": [
    "#напишем формулу для получения значения метрики RMSE\n",
    "def rmse (target, predictions):\n",
    "    mse = mean_squared_error(target, predictions)\n",
    "    rmse = mse ** 0.5\n",
    "    return rmse"
   ]
  },
  {
   "cell_type": "markdown",
   "metadata": {},
   "source": [
    "Обучим и проанализируем время работы и качество моделей."
   ]
  },
  {
   "cell_type": "markdown",
   "metadata": {},
   "source": [
    "LinearRegression"
   ]
  },
  {
   "cell_type": "code",
   "execution_count": 59,
   "metadata": {},
   "outputs": [],
   "source": [
    "lr_model = LinearRegression()"
   ]
  },
  {
   "cell_type": "code",
   "execution_count": 60,
   "metadata": {},
   "outputs": [
    {
     "name": "stdout",
     "output_type": "stream",
     "text": [
      "CPU times: user 29.3 s, sys: 14.5 s, total: 43.8 s\n",
      "Wall time: 43.8 s\n"
     ]
    },
    {
     "data": {
      "text/plain": [
       "LinearRegression()"
      ]
     },
     "execution_count": 60,
     "metadata": {},
     "output_type": "execute_result"
    }
   ],
   "source": [
    "%%time\n",
    "lr_model.fit(features_train_lr, target_train_lr)"
   ]
  },
  {
   "cell_type": "code",
   "execution_count": 61,
   "metadata": {},
   "outputs": [
    {
     "name": "stdout",
     "output_type": "stream",
     "text": [
      "CPU times: user 130 ms, sys: 117 ms, total: 247 ms\n",
      "Wall time: 293 ms\n"
     ]
    }
   ],
   "source": [
    "%%time\n",
    "predicted_lr = pd.Series(lr_model.predict(features_test_lr))"
   ]
  },
  {
   "cell_type": "code",
   "execution_count": 62,
   "metadata": {},
   "outputs": [
    {
     "data": {
      "text/plain": [
       "2798.985461211752"
      ]
     },
     "execution_count": 62,
     "metadata": {},
     "output_type": "execute_result"
    }
   ],
   "source": [
    "rmse(target_test_lr, predicted_lr)"
   ]
  },
  {
   "cell_type": "markdown",
   "metadata": {},
   "source": [
    "CatBoostRegressor"
   ]
  },
  {
   "cell_type": "code",
   "execution_count": 63,
   "metadata": {},
   "outputs": [
    {
     "name": "stderr",
     "output_type": "stream",
     "text": [
      "/opt/conda/lib/python3.9/site-packages/sklearn/model_selection/_validation.py:610: FitFailedWarning: Estimator fit failed. The score on this train-test partition for these parameters will be set to nan. Details: \n",
      "Traceback (most recent call last):\n",
      "  File \"_catboost.pyx\", line 2167, in _catboost.get_float_feature\n",
      "  File \"_catboost.pyx\", line 1125, in _catboost._FloatOrNan\n",
      "  File \"_catboost.pyx\", line 949, in _catboost._FloatOrNanFromString\n",
      "TypeError: Cannot convert 'b'volvo xc_reihe'' to float\n",
      "\n",
      "During handling of the above exception, another exception occurred:\n",
      "\n",
      "Traceback (most recent call last):\n",
      "  File \"/opt/conda/lib/python3.9/site-packages/sklearn/model_selection/_validation.py\", line 593, in _fit_and_score\n",
      "    estimator.fit(X_train, y_train, **fit_params)\n",
      "  File \"/opt/conda/lib/python3.9/site-packages/catboost/core.py\", line 5299, in fit\n",
      "    return self._fit(X, y, cat_features, None, None, None, sample_weight, None, None, None, None, baseline,\n",
      "  File \"/opt/conda/lib/python3.9/site-packages/catboost/core.py\", line 2021, in _fit\n",
      "    train_params = self._prepare_train_params(\n",
      "  File \"/opt/conda/lib/python3.9/site-packages/catboost/core.py\", line 1907, in _prepare_train_params\n",
      "    train_pool = _build_train_pool(X, y, cat_features, text_features, embedding_features, pairs,\n",
      "  File \"/opt/conda/lib/python3.9/site-packages/catboost/core.py\", line 1189, in _build_train_pool\n",
      "    train_pool = Pool(X, y, cat_features=cat_features, text_features=text_features, embedding_features=embedding_features, pairs=pairs, weight=sample_weight, group_id=group_id,\n",
      "  File \"/opt/conda/lib/python3.9/site-packages/catboost/core.py\", line 628, in __init__\n",
      "    self._init(data, label, cat_features, text_features, embedding_features, pairs, weight, group_id, group_weight, subgroup_id, pairs_weight, baseline, timestamp, feature_names, thread_count)\n",
      "  File \"/opt/conda/lib/python3.9/site-packages/catboost/core.py\", line 1171, in _init\n",
      "    self._init_pool(data, label, cat_features, text_features, embedding_features, pairs, weight, group_id, group_weight, subgroup_id, pairs_weight, baseline, timestamp, feature_names, thread_count)\n",
      "  File \"_catboost.pyx\", line 3755, in _catboost._PoolBase._init_pool\n",
      "  File \"_catboost.pyx\", line 3803, in _catboost._PoolBase._init_pool\n",
      "  File \"_catboost.pyx\", line 3638, in _catboost._PoolBase._init_features_order_layout_pool\n",
      "  File \"_catboost.pyx\", line 2664, in _catboost._set_features_order_data_pd_data_frame\n",
      "  File \"_catboost.pyx\", line 2208, in _catboost.create_num_factor_data\n",
      "  File \"_catboost.pyx\", line 2169, in _catboost.get_float_feature\n",
      "_catboost.CatBoostError: Bad value for num_feature[non_default_doc_idx=0,feature_idx=9]=\"volvo xc_reihe\": Cannot convert 'b'volvo xc_reihe'' to float\n",
      "\n",
      "  warnings.warn(\"Estimator fit failed. The score on this train-test\"\n",
      "/opt/conda/lib/python3.9/site-packages/sklearn/model_selection/_validation.py:610: FitFailedWarning: Estimator fit failed. The score on this train-test partition for these parameters will be set to nan. Details: \n",
      "Traceback (most recent call last):\n",
      "  File \"_catboost.pyx\", line 2167, in _catboost.get_float_feature\n",
      "  File \"_catboost.pyx\", line 1125, in _catboost._FloatOrNan\n",
      "  File \"_catboost.pyx\", line 949, in _catboost._FloatOrNanFromString\n",
      "TypeError: Cannot convert 'b'mercedes_benz c_klasse'' to float\n",
      "\n",
      "During handling of the above exception, another exception occurred:\n",
      "\n",
      "Traceback (most recent call last):\n",
      "  File \"/opt/conda/lib/python3.9/site-packages/sklearn/model_selection/_validation.py\", line 593, in _fit_and_score\n",
      "    estimator.fit(X_train, y_train, **fit_params)\n",
      "  File \"/opt/conda/lib/python3.9/site-packages/catboost/core.py\", line 5299, in fit\n",
      "    return self._fit(X, y, cat_features, None, None, None, sample_weight, None, None, None, None, baseline,\n",
      "  File \"/opt/conda/lib/python3.9/site-packages/catboost/core.py\", line 2021, in _fit\n",
      "    train_params = self._prepare_train_params(\n",
      "  File \"/opt/conda/lib/python3.9/site-packages/catboost/core.py\", line 1907, in _prepare_train_params\n",
      "    train_pool = _build_train_pool(X, y, cat_features, text_features, embedding_features, pairs,\n",
      "  File \"/opt/conda/lib/python3.9/site-packages/catboost/core.py\", line 1189, in _build_train_pool\n",
      "    train_pool = Pool(X, y, cat_features=cat_features, text_features=text_features, embedding_features=embedding_features, pairs=pairs, weight=sample_weight, group_id=group_id,\n",
      "  File \"/opt/conda/lib/python3.9/site-packages/catboost/core.py\", line 628, in __init__\n",
      "    self._init(data, label, cat_features, text_features, embedding_features, pairs, weight, group_id, group_weight, subgroup_id, pairs_weight, baseline, timestamp, feature_names, thread_count)\n",
      "  File \"/opt/conda/lib/python3.9/site-packages/catboost/core.py\", line 1171, in _init\n",
      "    self._init_pool(data, label, cat_features, text_features, embedding_features, pairs, weight, group_id, group_weight, subgroup_id, pairs_weight, baseline, timestamp, feature_names, thread_count)\n",
      "  File \"_catboost.pyx\", line 3755, in _catboost._PoolBase._init_pool\n",
      "  File \"_catboost.pyx\", line 3803, in _catboost._PoolBase._init_pool\n",
      "  File \"_catboost.pyx\", line 3638, in _catboost._PoolBase._init_features_order_layout_pool\n",
      "  File \"_catboost.pyx\", line 2664, in _catboost._set_features_order_data_pd_data_frame\n",
      "  File \"_catboost.pyx\", line 2208, in _catboost.create_num_factor_data\n",
      "  File \"_catboost.pyx\", line 2169, in _catboost.get_float_feature\n",
      "_catboost.CatBoostError: Bad value for num_feature[non_default_doc_idx=0,feature_idx=9]=\"mercedes_benz c_klasse\": Cannot convert 'b'mercedes_benz c_klasse'' to float\n",
      "\n",
      "  warnings.warn(\"Estimator fit failed. The score on this train-test\"\n"
     ]
    },
    {
     "name": "stdout",
     "output_type": "stream",
     "text": [
      "Score при iterations = 10 : [nan nan]\n",
      "Score mean = nan\n",
      "\n"
     ]
    },
    {
     "name": "stderr",
     "output_type": "stream",
     "text": [
      "/opt/conda/lib/python3.9/site-packages/sklearn/model_selection/_validation.py:610: FitFailedWarning: Estimator fit failed. The score on this train-test partition for these parameters will be set to nan. Details: \n",
      "Traceback (most recent call last):\n",
      "  File \"_catboost.pyx\", line 2167, in _catboost.get_float_feature\n",
      "  File \"_catboost.pyx\", line 1125, in _catboost._FloatOrNan\n",
      "  File \"_catboost.pyx\", line 949, in _catboost._FloatOrNanFromString\n",
      "TypeError: Cannot convert 'b'volvo xc_reihe'' to float\n",
      "\n",
      "During handling of the above exception, another exception occurred:\n",
      "\n",
      "Traceback (most recent call last):\n",
      "  File \"/opt/conda/lib/python3.9/site-packages/sklearn/model_selection/_validation.py\", line 593, in _fit_and_score\n",
      "    estimator.fit(X_train, y_train, **fit_params)\n",
      "  File \"/opt/conda/lib/python3.9/site-packages/catboost/core.py\", line 5299, in fit\n",
      "    return self._fit(X, y, cat_features, None, None, None, sample_weight, None, None, None, None, baseline,\n",
      "  File \"/opt/conda/lib/python3.9/site-packages/catboost/core.py\", line 2021, in _fit\n",
      "    train_params = self._prepare_train_params(\n",
      "  File \"/opt/conda/lib/python3.9/site-packages/catboost/core.py\", line 1907, in _prepare_train_params\n",
      "    train_pool = _build_train_pool(X, y, cat_features, text_features, embedding_features, pairs,\n",
      "  File \"/opt/conda/lib/python3.9/site-packages/catboost/core.py\", line 1189, in _build_train_pool\n",
      "    train_pool = Pool(X, y, cat_features=cat_features, text_features=text_features, embedding_features=embedding_features, pairs=pairs, weight=sample_weight, group_id=group_id,\n",
      "  File \"/opt/conda/lib/python3.9/site-packages/catboost/core.py\", line 628, in __init__\n",
      "    self._init(data, label, cat_features, text_features, embedding_features, pairs, weight, group_id, group_weight, subgroup_id, pairs_weight, baseline, timestamp, feature_names, thread_count)\n",
      "  File \"/opt/conda/lib/python3.9/site-packages/catboost/core.py\", line 1171, in _init\n",
      "    self._init_pool(data, label, cat_features, text_features, embedding_features, pairs, weight, group_id, group_weight, subgroup_id, pairs_weight, baseline, timestamp, feature_names, thread_count)\n",
      "  File \"_catboost.pyx\", line 3755, in _catboost._PoolBase._init_pool\n",
      "  File \"_catboost.pyx\", line 3803, in _catboost._PoolBase._init_pool\n",
      "  File \"_catboost.pyx\", line 3638, in _catboost._PoolBase._init_features_order_layout_pool\n",
      "  File \"_catboost.pyx\", line 2664, in _catboost._set_features_order_data_pd_data_frame\n",
      "  File \"_catboost.pyx\", line 2208, in _catboost.create_num_factor_data\n",
      "  File \"_catboost.pyx\", line 2169, in _catboost.get_float_feature\n",
      "_catboost.CatBoostError: Bad value for num_feature[non_default_doc_idx=0,feature_idx=9]=\"volvo xc_reihe\": Cannot convert 'b'volvo xc_reihe'' to float\n",
      "\n",
      "  warnings.warn(\"Estimator fit failed. The score on this train-test\"\n",
      "/opt/conda/lib/python3.9/site-packages/sklearn/model_selection/_validation.py:610: FitFailedWarning: Estimator fit failed. The score on this train-test partition for these parameters will be set to nan. Details: \n",
      "Traceback (most recent call last):\n",
      "  File \"_catboost.pyx\", line 2167, in _catboost.get_float_feature\n",
      "  File \"_catboost.pyx\", line 1125, in _catboost._FloatOrNan\n",
      "  File \"_catboost.pyx\", line 949, in _catboost._FloatOrNanFromString\n",
      "TypeError: Cannot convert 'b'mercedes_benz c_klasse'' to float\n",
      "\n",
      "During handling of the above exception, another exception occurred:\n",
      "\n",
      "Traceback (most recent call last):\n",
      "  File \"/opt/conda/lib/python3.9/site-packages/sklearn/model_selection/_validation.py\", line 593, in _fit_and_score\n",
      "    estimator.fit(X_train, y_train, **fit_params)\n",
      "  File \"/opt/conda/lib/python3.9/site-packages/catboost/core.py\", line 5299, in fit\n",
      "    return self._fit(X, y, cat_features, None, None, None, sample_weight, None, None, None, None, baseline,\n",
      "  File \"/opt/conda/lib/python3.9/site-packages/catboost/core.py\", line 2021, in _fit\n",
      "    train_params = self._prepare_train_params(\n",
      "  File \"/opt/conda/lib/python3.9/site-packages/catboost/core.py\", line 1907, in _prepare_train_params\n",
      "    train_pool = _build_train_pool(X, y, cat_features, text_features, embedding_features, pairs,\n",
      "  File \"/opt/conda/lib/python3.9/site-packages/catboost/core.py\", line 1189, in _build_train_pool\n",
      "    train_pool = Pool(X, y, cat_features=cat_features, text_features=text_features, embedding_features=embedding_features, pairs=pairs, weight=sample_weight, group_id=group_id,\n",
      "  File \"/opt/conda/lib/python3.9/site-packages/catboost/core.py\", line 628, in __init__\n",
      "    self._init(data, label, cat_features, text_features, embedding_features, pairs, weight, group_id, group_weight, subgroup_id, pairs_weight, baseline, timestamp, feature_names, thread_count)\n",
      "  File \"/opt/conda/lib/python3.9/site-packages/catboost/core.py\", line 1171, in _init\n",
      "    self._init_pool(data, label, cat_features, text_features, embedding_features, pairs, weight, group_id, group_weight, subgroup_id, pairs_weight, baseline, timestamp, feature_names, thread_count)\n",
      "  File \"_catboost.pyx\", line 3755, in _catboost._PoolBase._init_pool\n",
      "  File \"_catboost.pyx\", line 3803, in _catboost._PoolBase._init_pool\n",
      "  File \"_catboost.pyx\", line 3638, in _catboost._PoolBase._init_features_order_layout_pool\n",
      "  File \"_catboost.pyx\", line 2664, in _catboost._set_features_order_data_pd_data_frame\n",
      "  File \"_catboost.pyx\", line 2208, in _catboost.create_num_factor_data\n",
      "  File \"_catboost.pyx\", line 2169, in _catboost.get_float_feature\n",
      "_catboost.CatBoostError: Bad value for num_feature[non_default_doc_idx=0,feature_idx=9]=\"mercedes_benz c_klasse\": Cannot convert 'b'mercedes_benz c_klasse'' to float\n",
      "\n",
      "  warnings.warn(\"Estimator fit failed. The score on this train-test\"\n"
     ]
    },
    {
     "name": "stdout",
     "output_type": "stream",
     "text": [
      "Score при iterations = 35 : [nan nan]\n",
      "Score mean = nan\n",
      "\n"
     ]
    },
    {
     "name": "stderr",
     "output_type": "stream",
     "text": [
      "/opt/conda/lib/python3.9/site-packages/sklearn/model_selection/_validation.py:610: FitFailedWarning: Estimator fit failed. The score on this train-test partition for these parameters will be set to nan. Details: \n",
      "Traceback (most recent call last):\n",
      "  File \"_catboost.pyx\", line 2167, in _catboost.get_float_feature\n",
      "  File \"_catboost.pyx\", line 1125, in _catboost._FloatOrNan\n",
      "  File \"_catboost.pyx\", line 949, in _catboost._FloatOrNanFromString\n",
      "TypeError: Cannot convert 'b'volvo xc_reihe'' to float\n",
      "\n",
      "During handling of the above exception, another exception occurred:\n",
      "\n",
      "Traceback (most recent call last):\n",
      "  File \"/opt/conda/lib/python3.9/site-packages/sklearn/model_selection/_validation.py\", line 593, in _fit_and_score\n",
      "    estimator.fit(X_train, y_train, **fit_params)\n",
      "  File \"/opt/conda/lib/python3.9/site-packages/catboost/core.py\", line 5299, in fit\n",
      "    return self._fit(X, y, cat_features, None, None, None, sample_weight, None, None, None, None, baseline,\n",
      "  File \"/opt/conda/lib/python3.9/site-packages/catboost/core.py\", line 2021, in _fit\n",
      "    train_params = self._prepare_train_params(\n",
      "  File \"/opt/conda/lib/python3.9/site-packages/catboost/core.py\", line 1907, in _prepare_train_params\n",
      "    train_pool = _build_train_pool(X, y, cat_features, text_features, embedding_features, pairs,\n",
      "  File \"/opt/conda/lib/python3.9/site-packages/catboost/core.py\", line 1189, in _build_train_pool\n",
      "    train_pool = Pool(X, y, cat_features=cat_features, text_features=text_features, embedding_features=embedding_features, pairs=pairs, weight=sample_weight, group_id=group_id,\n",
      "  File \"/opt/conda/lib/python3.9/site-packages/catboost/core.py\", line 628, in __init__\n",
      "    self._init(data, label, cat_features, text_features, embedding_features, pairs, weight, group_id, group_weight, subgroup_id, pairs_weight, baseline, timestamp, feature_names, thread_count)\n",
      "  File \"/opt/conda/lib/python3.9/site-packages/catboost/core.py\", line 1171, in _init\n",
      "    self._init_pool(data, label, cat_features, text_features, embedding_features, pairs, weight, group_id, group_weight, subgroup_id, pairs_weight, baseline, timestamp, feature_names, thread_count)\n",
      "  File \"_catboost.pyx\", line 3755, in _catboost._PoolBase._init_pool\n",
      "  File \"_catboost.pyx\", line 3803, in _catboost._PoolBase._init_pool\n",
      "  File \"_catboost.pyx\", line 3638, in _catboost._PoolBase._init_features_order_layout_pool\n",
      "  File \"_catboost.pyx\", line 2664, in _catboost._set_features_order_data_pd_data_frame\n",
      "  File \"_catboost.pyx\", line 2208, in _catboost.create_num_factor_data\n",
      "  File \"_catboost.pyx\", line 2169, in _catboost.get_float_feature\n",
      "_catboost.CatBoostError: Bad value for num_feature[non_default_doc_idx=0,feature_idx=9]=\"volvo xc_reihe\": Cannot convert 'b'volvo xc_reihe'' to float\n",
      "\n",
      "  warnings.warn(\"Estimator fit failed. The score on this train-test\"\n",
      "/opt/conda/lib/python3.9/site-packages/sklearn/model_selection/_validation.py:610: FitFailedWarning: Estimator fit failed. The score on this train-test partition for these parameters will be set to nan. Details: \n",
      "Traceback (most recent call last):\n",
      "  File \"_catboost.pyx\", line 2167, in _catboost.get_float_feature\n",
      "  File \"_catboost.pyx\", line 1125, in _catboost._FloatOrNan\n",
      "  File \"_catboost.pyx\", line 949, in _catboost._FloatOrNanFromString\n",
      "TypeError: Cannot convert 'b'mercedes_benz c_klasse'' to float\n",
      "\n",
      "During handling of the above exception, another exception occurred:\n",
      "\n",
      "Traceback (most recent call last):\n",
      "  File \"/opt/conda/lib/python3.9/site-packages/sklearn/model_selection/_validation.py\", line 593, in _fit_and_score\n",
      "    estimator.fit(X_train, y_train, **fit_params)\n",
      "  File \"/opt/conda/lib/python3.9/site-packages/catboost/core.py\", line 5299, in fit\n",
      "    return self._fit(X, y, cat_features, None, None, None, sample_weight, None, None, None, None, baseline,\n",
      "  File \"/opt/conda/lib/python3.9/site-packages/catboost/core.py\", line 2021, in _fit\n",
      "    train_params = self._prepare_train_params(\n",
      "  File \"/opt/conda/lib/python3.9/site-packages/catboost/core.py\", line 1907, in _prepare_train_params\n",
      "    train_pool = _build_train_pool(X, y, cat_features, text_features, embedding_features, pairs,\n",
      "  File \"/opt/conda/lib/python3.9/site-packages/catboost/core.py\", line 1189, in _build_train_pool\n",
      "    train_pool = Pool(X, y, cat_features=cat_features, text_features=text_features, embedding_features=embedding_features, pairs=pairs, weight=sample_weight, group_id=group_id,\n",
      "  File \"/opt/conda/lib/python3.9/site-packages/catboost/core.py\", line 628, in __init__\n",
      "    self._init(data, label, cat_features, text_features, embedding_features, pairs, weight, group_id, group_weight, subgroup_id, pairs_weight, baseline, timestamp, feature_names, thread_count)\n",
      "  File \"/opt/conda/lib/python3.9/site-packages/catboost/core.py\", line 1171, in _init\n",
      "    self._init_pool(data, label, cat_features, text_features, embedding_features, pairs, weight, group_id, group_weight, subgroup_id, pairs_weight, baseline, timestamp, feature_names, thread_count)\n",
      "  File \"_catboost.pyx\", line 3755, in _catboost._PoolBase._init_pool\n",
      "  File \"_catboost.pyx\", line 3803, in _catboost._PoolBase._init_pool\n",
      "  File \"_catboost.pyx\", line 3638, in _catboost._PoolBase._init_features_order_layout_pool\n",
      "  File \"_catboost.pyx\", line 2664, in _catboost._set_features_order_data_pd_data_frame\n",
      "  File \"_catboost.pyx\", line 2208, in _catboost.create_num_factor_data\n",
      "  File \"_catboost.pyx\", line 2169, in _catboost.get_float_feature\n",
      "_catboost.CatBoostError: Bad value for num_feature[non_default_doc_idx=0,feature_idx=9]=\"mercedes_benz c_klasse\": Cannot convert 'b'mercedes_benz c_klasse'' to float\n",
      "\n",
      "  warnings.warn(\"Estimator fit failed. The score on this train-test\"\n"
     ]
    },
    {
     "name": "stdout",
     "output_type": "stream",
     "text": [
      "Score при iterations = 60 : [nan nan]\n",
      "Score mean = nan\n",
      "\n"
     ]
    },
    {
     "name": "stderr",
     "output_type": "stream",
     "text": [
      "/opt/conda/lib/python3.9/site-packages/sklearn/model_selection/_validation.py:610: FitFailedWarning: Estimator fit failed. The score on this train-test partition for these parameters will be set to nan. Details: \n",
      "Traceback (most recent call last):\n",
      "  File \"_catboost.pyx\", line 2167, in _catboost.get_float_feature\n",
      "  File \"_catboost.pyx\", line 1125, in _catboost._FloatOrNan\n",
      "  File \"_catboost.pyx\", line 949, in _catboost._FloatOrNanFromString\n",
      "TypeError: Cannot convert 'b'volvo xc_reihe'' to float\n",
      "\n",
      "During handling of the above exception, another exception occurred:\n",
      "\n",
      "Traceback (most recent call last):\n",
      "  File \"/opt/conda/lib/python3.9/site-packages/sklearn/model_selection/_validation.py\", line 593, in _fit_and_score\n",
      "    estimator.fit(X_train, y_train, **fit_params)\n",
      "  File \"/opt/conda/lib/python3.9/site-packages/catboost/core.py\", line 5299, in fit\n",
      "    return self._fit(X, y, cat_features, None, None, None, sample_weight, None, None, None, None, baseline,\n",
      "  File \"/opt/conda/lib/python3.9/site-packages/catboost/core.py\", line 2021, in _fit\n",
      "    train_params = self._prepare_train_params(\n",
      "  File \"/opt/conda/lib/python3.9/site-packages/catboost/core.py\", line 1907, in _prepare_train_params\n",
      "    train_pool = _build_train_pool(X, y, cat_features, text_features, embedding_features, pairs,\n",
      "  File \"/opt/conda/lib/python3.9/site-packages/catboost/core.py\", line 1189, in _build_train_pool\n",
      "    train_pool = Pool(X, y, cat_features=cat_features, text_features=text_features, embedding_features=embedding_features, pairs=pairs, weight=sample_weight, group_id=group_id,\n",
      "  File \"/opt/conda/lib/python3.9/site-packages/catboost/core.py\", line 628, in __init__\n",
      "    self._init(data, label, cat_features, text_features, embedding_features, pairs, weight, group_id, group_weight, subgroup_id, pairs_weight, baseline, timestamp, feature_names, thread_count)\n",
      "  File \"/opt/conda/lib/python3.9/site-packages/catboost/core.py\", line 1171, in _init\n",
      "    self._init_pool(data, label, cat_features, text_features, embedding_features, pairs, weight, group_id, group_weight, subgroup_id, pairs_weight, baseline, timestamp, feature_names, thread_count)\n",
      "  File \"_catboost.pyx\", line 3755, in _catboost._PoolBase._init_pool\n",
      "  File \"_catboost.pyx\", line 3803, in _catboost._PoolBase._init_pool\n",
      "  File \"_catboost.pyx\", line 3638, in _catboost._PoolBase._init_features_order_layout_pool\n",
      "  File \"_catboost.pyx\", line 2664, in _catboost._set_features_order_data_pd_data_frame\n",
      "  File \"_catboost.pyx\", line 2208, in _catboost.create_num_factor_data\n",
      "  File \"_catboost.pyx\", line 2169, in _catboost.get_float_feature\n",
      "_catboost.CatBoostError: Bad value for num_feature[non_default_doc_idx=0,feature_idx=9]=\"volvo xc_reihe\": Cannot convert 'b'volvo xc_reihe'' to float\n",
      "\n",
      "  warnings.warn(\"Estimator fit failed. The score on this train-test\"\n",
      "/opt/conda/lib/python3.9/site-packages/sklearn/model_selection/_validation.py:610: FitFailedWarning: Estimator fit failed. The score on this train-test partition for these parameters will be set to nan. Details: \n",
      "Traceback (most recent call last):\n",
      "  File \"_catboost.pyx\", line 2167, in _catboost.get_float_feature\n",
      "  File \"_catboost.pyx\", line 1125, in _catboost._FloatOrNan\n",
      "  File \"_catboost.pyx\", line 949, in _catboost._FloatOrNanFromString\n",
      "TypeError: Cannot convert 'b'mercedes_benz c_klasse'' to float\n",
      "\n",
      "During handling of the above exception, another exception occurred:\n",
      "\n",
      "Traceback (most recent call last):\n",
      "  File \"/opt/conda/lib/python3.9/site-packages/sklearn/model_selection/_validation.py\", line 593, in _fit_and_score\n",
      "    estimator.fit(X_train, y_train, **fit_params)\n",
      "  File \"/opt/conda/lib/python3.9/site-packages/catboost/core.py\", line 5299, in fit\n",
      "    return self._fit(X, y, cat_features, None, None, None, sample_weight, None, None, None, None, baseline,\n",
      "  File \"/opt/conda/lib/python3.9/site-packages/catboost/core.py\", line 2021, in _fit\n",
      "    train_params = self._prepare_train_params(\n",
      "  File \"/opt/conda/lib/python3.9/site-packages/catboost/core.py\", line 1907, in _prepare_train_params\n",
      "    train_pool = _build_train_pool(X, y, cat_features, text_features, embedding_features, pairs,\n",
      "  File \"/opt/conda/lib/python3.9/site-packages/catboost/core.py\", line 1189, in _build_train_pool\n",
      "    train_pool = Pool(X, y, cat_features=cat_features, text_features=text_features, embedding_features=embedding_features, pairs=pairs, weight=sample_weight, group_id=group_id,\n",
      "  File \"/opt/conda/lib/python3.9/site-packages/catboost/core.py\", line 628, in __init__\n",
      "    self._init(data, label, cat_features, text_features, embedding_features, pairs, weight, group_id, group_weight, subgroup_id, pairs_weight, baseline, timestamp, feature_names, thread_count)\n",
      "  File \"/opt/conda/lib/python3.9/site-packages/catboost/core.py\", line 1171, in _init\n",
      "    self._init_pool(data, label, cat_features, text_features, embedding_features, pairs, weight, group_id, group_weight, subgroup_id, pairs_weight, baseline, timestamp, feature_names, thread_count)\n",
      "  File \"_catboost.pyx\", line 3755, in _catboost._PoolBase._init_pool\n",
      "  File \"_catboost.pyx\", line 3803, in _catboost._PoolBase._init_pool\n",
      "  File \"_catboost.pyx\", line 3638, in _catboost._PoolBase._init_features_order_layout_pool\n",
      "  File \"_catboost.pyx\", line 2664, in _catboost._set_features_order_data_pd_data_frame\n",
      "  File \"_catboost.pyx\", line 2208, in _catboost.create_num_factor_data\n",
      "  File \"_catboost.pyx\", line 2169, in _catboost.get_float_feature\n",
      "_catboost.CatBoostError: Bad value for num_feature[non_default_doc_idx=0,feature_idx=9]=\"mercedes_benz c_klasse\": Cannot convert 'b'mercedes_benz c_klasse'' to float\n",
      "\n",
      "  warnings.warn(\"Estimator fit failed. The score on this train-test\"\n"
     ]
    },
    {
     "name": "stdout",
     "output_type": "stream",
     "text": [
      "Score при iterations = 85 : [nan nan]\n",
      "Score mean = nan\n",
      "\n"
     ]
    },
    {
     "name": "stderr",
     "output_type": "stream",
     "text": [
      "/opt/conda/lib/python3.9/site-packages/sklearn/model_selection/_validation.py:610: FitFailedWarning: Estimator fit failed. The score on this train-test partition for these parameters will be set to nan. Details: \n",
      "Traceback (most recent call last):\n",
      "  File \"_catboost.pyx\", line 2167, in _catboost.get_float_feature\n",
      "  File \"_catboost.pyx\", line 1125, in _catboost._FloatOrNan\n",
      "  File \"_catboost.pyx\", line 949, in _catboost._FloatOrNanFromString\n",
      "TypeError: Cannot convert 'b'volvo xc_reihe'' to float\n",
      "\n",
      "During handling of the above exception, another exception occurred:\n",
      "\n",
      "Traceback (most recent call last):\n",
      "  File \"/opt/conda/lib/python3.9/site-packages/sklearn/model_selection/_validation.py\", line 593, in _fit_and_score\n",
      "    estimator.fit(X_train, y_train, **fit_params)\n",
      "  File \"/opt/conda/lib/python3.9/site-packages/catboost/core.py\", line 5299, in fit\n",
      "    return self._fit(X, y, cat_features, None, None, None, sample_weight, None, None, None, None, baseline,\n",
      "  File \"/opt/conda/lib/python3.9/site-packages/catboost/core.py\", line 2021, in _fit\n",
      "    train_params = self._prepare_train_params(\n",
      "  File \"/opt/conda/lib/python3.9/site-packages/catboost/core.py\", line 1907, in _prepare_train_params\n",
      "    train_pool = _build_train_pool(X, y, cat_features, text_features, embedding_features, pairs,\n",
      "  File \"/opt/conda/lib/python3.9/site-packages/catboost/core.py\", line 1189, in _build_train_pool\n",
      "    train_pool = Pool(X, y, cat_features=cat_features, text_features=text_features, embedding_features=embedding_features, pairs=pairs, weight=sample_weight, group_id=group_id,\n",
      "  File \"/opt/conda/lib/python3.9/site-packages/catboost/core.py\", line 628, in __init__\n",
      "    self._init(data, label, cat_features, text_features, embedding_features, pairs, weight, group_id, group_weight, subgroup_id, pairs_weight, baseline, timestamp, feature_names, thread_count)\n",
      "  File \"/opt/conda/lib/python3.9/site-packages/catboost/core.py\", line 1171, in _init\n",
      "    self._init_pool(data, label, cat_features, text_features, embedding_features, pairs, weight, group_id, group_weight, subgroup_id, pairs_weight, baseline, timestamp, feature_names, thread_count)\n",
      "  File \"_catboost.pyx\", line 3755, in _catboost._PoolBase._init_pool\n",
      "  File \"_catboost.pyx\", line 3803, in _catboost._PoolBase._init_pool\n",
      "  File \"_catboost.pyx\", line 3638, in _catboost._PoolBase._init_features_order_layout_pool\n",
      "  File \"_catboost.pyx\", line 2664, in _catboost._set_features_order_data_pd_data_frame\n",
      "  File \"_catboost.pyx\", line 2208, in _catboost.create_num_factor_data\n",
      "  File \"_catboost.pyx\", line 2169, in _catboost.get_float_feature\n",
      "_catboost.CatBoostError: Bad value for num_feature[non_default_doc_idx=0,feature_idx=9]=\"volvo xc_reihe\": Cannot convert 'b'volvo xc_reihe'' to float\n",
      "\n",
      "  warnings.warn(\"Estimator fit failed. The score on this train-test\"\n"
     ]
    },
    {
     "name": "stdout",
     "output_type": "stream",
     "text": [
      "Score при iterations = 110 : [nan nan]\n",
      "Score mean = nan\n",
      "\n"
     ]
    },
    {
     "name": "stderr",
     "output_type": "stream",
     "text": [
      "/opt/conda/lib/python3.9/site-packages/sklearn/model_selection/_validation.py:610: FitFailedWarning: Estimator fit failed. The score on this train-test partition for these parameters will be set to nan. Details: \n",
      "Traceback (most recent call last):\n",
      "  File \"_catboost.pyx\", line 2167, in _catboost.get_float_feature\n",
      "  File \"_catboost.pyx\", line 1125, in _catboost._FloatOrNan\n",
      "  File \"_catboost.pyx\", line 949, in _catboost._FloatOrNanFromString\n",
      "TypeError: Cannot convert 'b'mercedes_benz c_klasse'' to float\n",
      "\n",
      "During handling of the above exception, another exception occurred:\n",
      "\n",
      "Traceback (most recent call last):\n",
      "  File \"/opt/conda/lib/python3.9/site-packages/sklearn/model_selection/_validation.py\", line 593, in _fit_and_score\n",
      "    estimator.fit(X_train, y_train, **fit_params)\n",
      "  File \"/opt/conda/lib/python3.9/site-packages/catboost/core.py\", line 5299, in fit\n",
      "    return self._fit(X, y, cat_features, None, None, None, sample_weight, None, None, None, None, baseline,\n",
      "  File \"/opt/conda/lib/python3.9/site-packages/catboost/core.py\", line 2021, in _fit\n",
      "    train_params = self._prepare_train_params(\n",
      "  File \"/opt/conda/lib/python3.9/site-packages/catboost/core.py\", line 1907, in _prepare_train_params\n",
      "    train_pool = _build_train_pool(X, y, cat_features, text_features, embedding_features, pairs,\n",
      "  File \"/opt/conda/lib/python3.9/site-packages/catboost/core.py\", line 1189, in _build_train_pool\n",
      "    train_pool = Pool(X, y, cat_features=cat_features, text_features=text_features, embedding_features=embedding_features, pairs=pairs, weight=sample_weight, group_id=group_id,\n",
      "  File \"/opt/conda/lib/python3.9/site-packages/catboost/core.py\", line 628, in __init__\n",
      "    self._init(data, label, cat_features, text_features, embedding_features, pairs, weight, group_id, group_weight, subgroup_id, pairs_weight, baseline, timestamp, feature_names, thread_count)\n",
      "  File \"/opt/conda/lib/python3.9/site-packages/catboost/core.py\", line 1171, in _init\n",
      "    self._init_pool(data, label, cat_features, text_features, embedding_features, pairs, weight, group_id, group_weight, subgroup_id, pairs_weight, baseline, timestamp, feature_names, thread_count)\n",
      "  File \"_catboost.pyx\", line 3755, in _catboost._PoolBase._init_pool\n",
      "  File \"_catboost.pyx\", line 3803, in _catboost._PoolBase._init_pool\n",
      "  File \"_catboost.pyx\", line 3638, in _catboost._PoolBase._init_features_order_layout_pool\n",
      "  File \"_catboost.pyx\", line 2664, in _catboost._set_features_order_data_pd_data_frame\n",
      "  File \"_catboost.pyx\", line 2208, in _catboost.create_num_factor_data\n",
      "  File \"_catboost.pyx\", line 2169, in _catboost.get_float_feature\n",
      "_catboost.CatBoostError: Bad value for num_feature[non_default_doc_idx=0,feature_idx=9]=\"mercedes_benz c_klasse\": Cannot convert 'b'mercedes_benz c_klasse'' to float\n",
      "\n",
      "  warnings.warn(\"Estimator fit failed. The score on this train-test\"\n"
     ]
    }
   ],
   "source": [
    "#построим модель CBR и исследуем её работу с различными значениями гиперпараметра iterations с помощью кросс-валидации\n",
    "for iteration in range(10, 111, 25):\n",
    "    cat_model = CatBoostRegressor(loss_function=\"RMSE\", iterations=iteration, depth=10, verbose=10, cat_features=categorical)\n",
    "    cat_cv = cross_val_score(cat_model, features_train, target_train, cv=2)\n",
    "    print(\"Score при iterations =\", iteration, \":\", cat_cv)\n",
    "    print(\"Score mean =\", sum(cat_cv)/len(cat_cv))\n",
    "    print()"
   ]
  },
  {
   "cell_type": "code",
   "execution_count": 48,
   "metadata": {},
   "outputs": [
    {
     "name": "stderr",
     "output_type": "stream",
     "text": [
      "/opt/conda/lib/python3.9/site-packages/sklearn/model_selection/_validation.py:610: FitFailedWarning: Estimator fit failed. The score on this train-test partition for these parameters will be set to nan. Details: \n",
      "Traceback (most recent call last):\n",
      "  File \"/opt/conda/lib/python3.9/site-packages/sklearn/model_selection/_validation.py\", line 593, in _fit_and_score\n",
      "    estimator.fit(X_train, y_train, **fit_params)\n",
      "  File \"/opt/conda/lib/python3.9/site-packages/catboost/core.py\", line 5299, in fit\n",
      "    return self._fit(X, y, cat_features, None, None, None, sample_weight, None, None, None, None, baseline,\n",
      "  File \"/opt/conda/lib/python3.9/site-packages/catboost/core.py\", line 2021, in _fit\n",
      "    train_params = self._prepare_train_params(\n",
      "  File \"/opt/conda/lib/python3.9/site-packages/catboost/core.py\", line 1907, in _prepare_train_params\n",
      "    train_pool = _build_train_pool(X, y, cat_features, text_features, embedding_features, pairs,\n",
      "  File \"/opt/conda/lib/python3.9/site-packages/catboost/core.py\", line 1189, in _build_train_pool\n",
      "    train_pool = Pool(X, y, cat_features=cat_features, text_features=text_features, embedding_features=embedding_features, pairs=pairs, weight=sample_weight, group_id=group_id,\n",
      "  File \"/opt/conda/lib/python3.9/site-packages/catboost/core.py\", line 628, in __init__\n",
      "    self._init(data, label, cat_features, text_features, embedding_features, pairs, weight, group_id, group_weight, subgroup_id, pairs_weight, baseline, timestamp, feature_names, thread_count)\n",
      "  File \"/opt/conda/lib/python3.9/site-packages/catboost/core.py\", line 1171, in _init\n",
      "    self._init_pool(data, label, cat_features, text_features, embedding_features, pairs, weight, group_id, group_weight, subgroup_id, pairs_weight, baseline, timestamp, feature_names, thread_count)\n",
      "  File \"_catboost.pyx\", line 3755, in _catboost._PoolBase._init_pool\n",
      "  File \"_catboost.pyx\", line 3803, in _catboost._PoolBase._init_pool\n",
      "  File \"_catboost.pyx\", line 3638, in _catboost._PoolBase._init_features_order_layout_pool\n",
      "  File \"_catboost.pyx\", line 2620, in _catboost._set_features_order_data_pd_data_frame\n",
      "_catboost.CatBoostError: features data: pandas.DataFrame column 'Brand' has dtype 'category' but is not in  cat_features list\n",
      "\n",
      "  warnings.warn(\"Estimator fit failed. The score on this train-test\"\n",
      "/opt/conda/lib/python3.9/site-packages/sklearn/model_selection/_validation.py:610: FitFailedWarning: Estimator fit failed. The score on this train-test partition for these parameters will be set to nan. Details: \n",
      "Traceback (most recent call last):\n",
      "  File \"/opt/conda/lib/python3.9/site-packages/sklearn/model_selection/_validation.py\", line 593, in _fit_and_score\n",
      "    estimator.fit(X_train, y_train, **fit_params)\n",
      "  File \"/opt/conda/lib/python3.9/site-packages/catboost/core.py\", line 5299, in fit\n",
      "    return self._fit(X, y, cat_features, None, None, None, sample_weight, None, None, None, None, baseline,\n",
      "  File \"/opt/conda/lib/python3.9/site-packages/catboost/core.py\", line 2021, in _fit\n",
      "    train_params = self._prepare_train_params(\n",
      "  File \"/opt/conda/lib/python3.9/site-packages/catboost/core.py\", line 1907, in _prepare_train_params\n",
      "    train_pool = _build_train_pool(X, y, cat_features, text_features, embedding_features, pairs,\n",
      "  File \"/opt/conda/lib/python3.9/site-packages/catboost/core.py\", line 1189, in _build_train_pool\n",
      "    train_pool = Pool(X, y, cat_features=cat_features, text_features=text_features, embedding_features=embedding_features, pairs=pairs, weight=sample_weight, group_id=group_id,\n",
      "  File \"/opt/conda/lib/python3.9/site-packages/catboost/core.py\", line 628, in __init__\n",
      "    self._init(data, label, cat_features, text_features, embedding_features, pairs, weight, group_id, group_weight, subgroup_id, pairs_weight, baseline, timestamp, feature_names, thread_count)\n",
      "  File \"/opt/conda/lib/python3.9/site-packages/catboost/core.py\", line 1171, in _init\n",
      "    self._init_pool(data, label, cat_features, text_features, embedding_features, pairs, weight, group_id, group_weight, subgroup_id, pairs_weight, baseline, timestamp, feature_names, thread_count)\n",
      "  File \"_catboost.pyx\", line 3755, in _catboost._PoolBase._init_pool\n",
      "  File \"_catboost.pyx\", line 3803, in _catboost._PoolBase._init_pool\n",
      "  File \"_catboost.pyx\", line 3638, in _catboost._PoolBase._init_features_order_layout_pool\n",
      "  File \"_catboost.pyx\", line 2620, in _catboost._set_features_order_data_pd_data_frame\n",
      "_catboost.CatBoostError: features data: pandas.DataFrame column 'Brand' has dtype 'category' but is not in  cat_features list\n",
      "\n",
      "  warnings.warn(\"Estimator fit failed. The score on this train-test\"\n"
     ]
    },
    {
     "name": "stdout",
     "output_type": "stream",
     "text": [
      "Score при depth = 5 : [nan nan]\n",
      "Score mean = nan\n",
      "\n"
     ]
    },
    {
     "name": "stderr",
     "output_type": "stream",
     "text": [
      "/opt/conda/lib/python3.9/site-packages/sklearn/model_selection/_validation.py:610: FitFailedWarning: Estimator fit failed. The score on this train-test partition for these parameters will be set to nan. Details: \n",
      "Traceback (most recent call last):\n",
      "  File \"/opt/conda/lib/python3.9/site-packages/sklearn/model_selection/_validation.py\", line 593, in _fit_and_score\n",
      "    estimator.fit(X_train, y_train, **fit_params)\n",
      "  File \"/opt/conda/lib/python3.9/site-packages/catboost/core.py\", line 5299, in fit\n",
      "    return self._fit(X, y, cat_features, None, None, None, sample_weight, None, None, None, None, baseline,\n",
      "  File \"/opt/conda/lib/python3.9/site-packages/catboost/core.py\", line 2021, in _fit\n",
      "    train_params = self._prepare_train_params(\n",
      "  File \"/opt/conda/lib/python3.9/site-packages/catboost/core.py\", line 1907, in _prepare_train_params\n",
      "    train_pool = _build_train_pool(X, y, cat_features, text_features, embedding_features, pairs,\n",
      "  File \"/opt/conda/lib/python3.9/site-packages/catboost/core.py\", line 1189, in _build_train_pool\n",
      "    train_pool = Pool(X, y, cat_features=cat_features, text_features=text_features, embedding_features=embedding_features, pairs=pairs, weight=sample_weight, group_id=group_id,\n",
      "  File \"/opt/conda/lib/python3.9/site-packages/catboost/core.py\", line 628, in __init__\n",
      "    self._init(data, label, cat_features, text_features, embedding_features, pairs, weight, group_id, group_weight, subgroup_id, pairs_weight, baseline, timestamp, feature_names, thread_count)\n",
      "  File \"/opt/conda/lib/python3.9/site-packages/catboost/core.py\", line 1171, in _init\n",
      "    self._init_pool(data, label, cat_features, text_features, embedding_features, pairs, weight, group_id, group_weight, subgroup_id, pairs_weight, baseline, timestamp, feature_names, thread_count)\n",
      "  File \"_catboost.pyx\", line 3755, in _catboost._PoolBase._init_pool\n",
      "  File \"_catboost.pyx\", line 3803, in _catboost._PoolBase._init_pool\n",
      "  File \"_catboost.pyx\", line 3638, in _catboost._PoolBase._init_features_order_layout_pool\n",
      "  File \"_catboost.pyx\", line 2620, in _catboost._set_features_order_data_pd_data_frame\n",
      "_catboost.CatBoostError: features data: pandas.DataFrame column 'Brand' has dtype 'category' but is not in  cat_features list\n",
      "\n",
      "  warnings.warn(\"Estimator fit failed. The score on this train-test\"\n",
      "/opt/conda/lib/python3.9/site-packages/sklearn/model_selection/_validation.py:610: FitFailedWarning: Estimator fit failed. The score on this train-test partition for these parameters will be set to nan. Details: \n",
      "Traceback (most recent call last):\n",
      "  File \"/opt/conda/lib/python3.9/site-packages/sklearn/model_selection/_validation.py\", line 593, in _fit_and_score\n",
      "    estimator.fit(X_train, y_train, **fit_params)\n",
      "  File \"/opt/conda/lib/python3.9/site-packages/catboost/core.py\", line 5299, in fit\n",
      "    return self._fit(X, y, cat_features, None, None, None, sample_weight, None, None, None, None, baseline,\n",
      "  File \"/opt/conda/lib/python3.9/site-packages/catboost/core.py\", line 2021, in _fit\n",
      "    train_params = self._prepare_train_params(\n",
      "  File \"/opt/conda/lib/python3.9/site-packages/catboost/core.py\", line 1907, in _prepare_train_params\n",
      "    train_pool = _build_train_pool(X, y, cat_features, text_features, embedding_features, pairs,\n",
      "  File \"/opt/conda/lib/python3.9/site-packages/catboost/core.py\", line 1189, in _build_train_pool\n",
      "    train_pool = Pool(X, y, cat_features=cat_features, text_features=text_features, embedding_features=embedding_features, pairs=pairs, weight=sample_weight, group_id=group_id,\n",
      "  File \"/opt/conda/lib/python3.9/site-packages/catboost/core.py\", line 628, in __init__\n",
      "    self._init(data, label, cat_features, text_features, embedding_features, pairs, weight, group_id, group_weight, subgroup_id, pairs_weight, baseline, timestamp, feature_names, thread_count)\n",
      "  File \"/opt/conda/lib/python3.9/site-packages/catboost/core.py\", line 1171, in _init\n",
      "    self._init_pool(data, label, cat_features, text_features, embedding_features, pairs, weight, group_id, group_weight, subgroup_id, pairs_weight, baseline, timestamp, feature_names, thread_count)\n",
      "  File \"_catboost.pyx\", line 3755, in _catboost._PoolBase._init_pool\n",
      "  File \"_catboost.pyx\", line 3803, in _catboost._PoolBase._init_pool\n",
      "  File \"_catboost.pyx\", line 3638, in _catboost._PoolBase._init_features_order_layout_pool\n",
      "  File \"_catboost.pyx\", line 2620, in _catboost._set_features_order_data_pd_data_frame\n",
      "_catboost.CatBoostError: features data: pandas.DataFrame column 'Brand' has dtype 'category' but is not in  cat_features list\n",
      "\n",
      "  warnings.warn(\"Estimator fit failed. The score on this train-test\"\n",
      "/opt/conda/lib/python3.9/site-packages/sklearn/model_selection/_validation.py:610: FitFailedWarning: Estimator fit failed. The score on this train-test partition for these parameters will be set to nan. Details: \n",
      "Traceback (most recent call last):\n",
      "  File \"/opt/conda/lib/python3.9/site-packages/sklearn/model_selection/_validation.py\", line 593, in _fit_and_score\n",
      "    estimator.fit(X_train, y_train, **fit_params)\n",
      "  File \"/opt/conda/lib/python3.9/site-packages/catboost/core.py\", line 5299, in fit\n",
      "    return self._fit(X, y, cat_features, None, None, None, sample_weight, None, None, None, None, baseline,\n",
      "  File \"/opt/conda/lib/python3.9/site-packages/catboost/core.py\", line 2021, in _fit\n",
      "    train_params = self._prepare_train_params(\n",
      "  File \"/opt/conda/lib/python3.9/site-packages/catboost/core.py\", line 1907, in _prepare_train_params\n",
      "    train_pool = _build_train_pool(X, y, cat_features, text_features, embedding_features, pairs,\n",
      "  File \"/opt/conda/lib/python3.9/site-packages/catboost/core.py\", line 1189, in _build_train_pool\n",
      "    train_pool = Pool(X, y, cat_features=cat_features, text_features=text_features, embedding_features=embedding_features, pairs=pairs, weight=sample_weight, group_id=group_id,\n",
      "  File \"/opt/conda/lib/python3.9/site-packages/catboost/core.py\", line 628, in __init__\n",
      "    self._init(data, label, cat_features, text_features, embedding_features, pairs, weight, group_id, group_weight, subgroup_id, pairs_weight, baseline, timestamp, feature_names, thread_count)\n",
      "  File \"/opt/conda/lib/python3.9/site-packages/catboost/core.py\", line 1171, in _init\n",
      "    self._init_pool(data, label, cat_features, text_features, embedding_features, pairs, weight, group_id, group_weight, subgroup_id, pairs_weight, baseline, timestamp, feature_names, thread_count)\n",
      "  File \"_catboost.pyx\", line 3755, in _catboost._PoolBase._init_pool\n",
      "  File \"_catboost.pyx\", line 3803, in _catboost._PoolBase._init_pool\n",
      "  File \"_catboost.pyx\", line 3638, in _catboost._PoolBase._init_features_order_layout_pool\n",
      "  File \"_catboost.pyx\", line 2620, in _catboost._set_features_order_data_pd_data_frame\n",
      "_catboost.CatBoostError: features data: pandas.DataFrame column 'Brand' has dtype 'category' but is not in  cat_features list\n",
      "\n",
      "  warnings.warn(\"Estimator fit failed. The score on this train-test\"\n"
     ]
    },
    {
     "name": "stdout",
     "output_type": "stream",
     "text": [
      "Score при depth = 7 : [nan nan]\n",
      "Score mean = nan\n",
      "\n"
     ]
    },
    {
     "name": "stderr",
     "output_type": "stream",
     "text": [
      "/opt/conda/lib/python3.9/site-packages/sklearn/model_selection/_validation.py:610: FitFailedWarning: Estimator fit failed. The score on this train-test partition for these parameters will be set to nan. Details: \n",
      "Traceback (most recent call last):\n",
      "  File \"/opt/conda/lib/python3.9/site-packages/sklearn/model_selection/_validation.py\", line 593, in _fit_and_score\n",
      "    estimator.fit(X_train, y_train, **fit_params)\n",
      "  File \"/opt/conda/lib/python3.9/site-packages/catboost/core.py\", line 5299, in fit\n",
      "    return self._fit(X, y, cat_features, None, None, None, sample_weight, None, None, None, None, baseline,\n",
      "  File \"/opt/conda/lib/python3.9/site-packages/catboost/core.py\", line 2021, in _fit\n",
      "    train_params = self._prepare_train_params(\n",
      "  File \"/opt/conda/lib/python3.9/site-packages/catboost/core.py\", line 1907, in _prepare_train_params\n",
      "    train_pool = _build_train_pool(X, y, cat_features, text_features, embedding_features, pairs,\n",
      "  File \"/opt/conda/lib/python3.9/site-packages/catboost/core.py\", line 1189, in _build_train_pool\n",
      "    train_pool = Pool(X, y, cat_features=cat_features, text_features=text_features, embedding_features=embedding_features, pairs=pairs, weight=sample_weight, group_id=group_id,\n",
      "  File \"/opt/conda/lib/python3.9/site-packages/catboost/core.py\", line 628, in __init__\n",
      "    self._init(data, label, cat_features, text_features, embedding_features, pairs, weight, group_id, group_weight, subgroup_id, pairs_weight, baseline, timestamp, feature_names, thread_count)\n",
      "  File \"/opt/conda/lib/python3.9/site-packages/catboost/core.py\", line 1171, in _init\n",
      "    self._init_pool(data, label, cat_features, text_features, embedding_features, pairs, weight, group_id, group_weight, subgroup_id, pairs_weight, baseline, timestamp, feature_names, thread_count)\n",
      "  File \"_catboost.pyx\", line 3755, in _catboost._PoolBase._init_pool\n",
      "  File \"_catboost.pyx\", line 3803, in _catboost._PoolBase._init_pool\n",
      "  File \"_catboost.pyx\", line 3638, in _catboost._PoolBase._init_features_order_layout_pool\n",
      "  File \"_catboost.pyx\", line 2620, in _catboost._set_features_order_data_pd_data_frame\n",
      "_catboost.CatBoostError: features data: pandas.DataFrame column 'Brand' has dtype 'category' but is not in  cat_features list\n",
      "\n",
      "  warnings.warn(\"Estimator fit failed. The score on this train-test\"\n"
     ]
    },
    {
     "name": "stdout",
     "output_type": "stream",
     "text": [
      "Score при depth = 9 : [nan nan]\n",
      "Score mean = nan\n",
      "\n"
     ]
    },
    {
     "name": "stderr",
     "output_type": "stream",
     "text": [
      "/opt/conda/lib/python3.9/site-packages/sklearn/model_selection/_validation.py:610: FitFailedWarning: Estimator fit failed. The score on this train-test partition for these parameters will be set to nan. Details: \n",
      "Traceback (most recent call last):\n",
      "  File \"/opt/conda/lib/python3.9/site-packages/sklearn/model_selection/_validation.py\", line 593, in _fit_and_score\n",
      "    estimator.fit(X_train, y_train, **fit_params)\n",
      "  File \"/opt/conda/lib/python3.9/site-packages/catboost/core.py\", line 5299, in fit\n",
      "    return self._fit(X, y, cat_features, None, None, None, sample_weight, None, None, None, None, baseline,\n",
      "  File \"/opt/conda/lib/python3.9/site-packages/catboost/core.py\", line 2021, in _fit\n",
      "    train_params = self._prepare_train_params(\n",
      "  File \"/opt/conda/lib/python3.9/site-packages/catboost/core.py\", line 1907, in _prepare_train_params\n",
      "    train_pool = _build_train_pool(X, y, cat_features, text_features, embedding_features, pairs,\n",
      "  File \"/opt/conda/lib/python3.9/site-packages/catboost/core.py\", line 1189, in _build_train_pool\n",
      "    train_pool = Pool(X, y, cat_features=cat_features, text_features=text_features, embedding_features=embedding_features, pairs=pairs, weight=sample_weight, group_id=group_id,\n",
      "  File \"/opt/conda/lib/python3.9/site-packages/catboost/core.py\", line 628, in __init__\n",
      "    self._init(data, label, cat_features, text_features, embedding_features, pairs, weight, group_id, group_weight, subgroup_id, pairs_weight, baseline, timestamp, feature_names, thread_count)\n",
      "  File \"/opt/conda/lib/python3.9/site-packages/catboost/core.py\", line 1171, in _init\n",
      "    self._init_pool(data, label, cat_features, text_features, embedding_features, pairs, weight, group_id, group_weight, subgroup_id, pairs_weight, baseline, timestamp, feature_names, thread_count)\n",
      "  File \"_catboost.pyx\", line 3755, in _catboost._PoolBase._init_pool\n",
      "  File \"_catboost.pyx\", line 3803, in _catboost._PoolBase._init_pool\n",
      "  File \"_catboost.pyx\", line 3638, in _catboost._PoolBase._init_features_order_layout_pool\n",
      "  File \"_catboost.pyx\", line 2620, in _catboost._set_features_order_data_pd_data_frame\n",
      "_catboost.CatBoostError: features data: pandas.DataFrame column 'Brand' has dtype 'category' but is not in  cat_features list\n",
      "\n",
      "  warnings.warn(\"Estimator fit failed. The score on this train-test\"\n",
      "/opt/conda/lib/python3.9/site-packages/sklearn/model_selection/_validation.py:610: FitFailedWarning: Estimator fit failed. The score on this train-test partition for these parameters will be set to nan. Details: \n",
      "Traceback (most recent call last):\n",
      "  File \"/opt/conda/lib/python3.9/site-packages/sklearn/model_selection/_validation.py\", line 593, in _fit_and_score\n",
      "    estimator.fit(X_train, y_train, **fit_params)\n",
      "  File \"/opt/conda/lib/python3.9/site-packages/catboost/core.py\", line 5299, in fit\n",
      "    return self._fit(X, y, cat_features, None, None, None, sample_weight, None, None, None, None, baseline,\n",
      "  File \"/opt/conda/lib/python3.9/site-packages/catboost/core.py\", line 2021, in _fit\n",
      "    train_params = self._prepare_train_params(\n",
      "  File \"/opt/conda/lib/python3.9/site-packages/catboost/core.py\", line 1907, in _prepare_train_params\n",
      "    train_pool = _build_train_pool(X, y, cat_features, text_features, embedding_features, pairs,\n",
      "  File \"/opt/conda/lib/python3.9/site-packages/catboost/core.py\", line 1189, in _build_train_pool\n",
      "    train_pool = Pool(X, y, cat_features=cat_features, text_features=text_features, embedding_features=embedding_features, pairs=pairs, weight=sample_weight, group_id=group_id,\n",
      "  File \"/opt/conda/lib/python3.9/site-packages/catboost/core.py\", line 628, in __init__\n",
      "    self._init(data, label, cat_features, text_features, embedding_features, pairs, weight, group_id, group_weight, subgroup_id, pairs_weight, baseline, timestamp, feature_names, thread_count)\n",
      "  File \"/opt/conda/lib/python3.9/site-packages/catboost/core.py\", line 1171, in _init\n",
      "    self._init_pool(data, label, cat_features, text_features, embedding_features, pairs, weight, group_id, group_weight, subgroup_id, pairs_weight, baseline, timestamp, feature_names, thread_count)\n",
      "  File \"_catboost.pyx\", line 3755, in _catboost._PoolBase._init_pool\n",
      "  File \"_catboost.pyx\", line 3803, in _catboost._PoolBase._init_pool\n",
      "  File \"_catboost.pyx\", line 3638, in _catboost._PoolBase._init_features_order_layout_pool\n",
      "  File \"_catboost.pyx\", line 2620, in _catboost._set_features_order_data_pd_data_frame\n",
      "_catboost.CatBoostError: features data: pandas.DataFrame column 'Brand' has dtype 'category' but is not in  cat_features list\n",
      "\n",
      "  warnings.warn(\"Estimator fit failed. The score on this train-test\"\n"
     ]
    },
    {
     "name": "stdout",
     "output_type": "stream",
     "text": [
      "Score при depth = 11 : [nan nan]\n",
      "Score mean = nan\n",
      "\n"
     ]
    },
    {
     "name": "stderr",
     "output_type": "stream",
     "text": [
      "/opt/conda/lib/python3.9/site-packages/sklearn/model_selection/_validation.py:610: FitFailedWarning: Estimator fit failed. The score on this train-test partition for these parameters will be set to nan. Details: \n",
      "Traceback (most recent call last):\n",
      "  File \"/opt/conda/lib/python3.9/site-packages/sklearn/model_selection/_validation.py\", line 593, in _fit_and_score\n",
      "    estimator.fit(X_train, y_train, **fit_params)\n",
      "  File \"/opt/conda/lib/python3.9/site-packages/catboost/core.py\", line 5299, in fit\n",
      "    return self._fit(X, y, cat_features, None, None, None, sample_weight, None, None, None, None, baseline,\n",
      "  File \"/opt/conda/lib/python3.9/site-packages/catboost/core.py\", line 2021, in _fit\n",
      "    train_params = self._prepare_train_params(\n",
      "  File \"/opt/conda/lib/python3.9/site-packages/catboost/core.py\", line 1907, in _prepare_train_params\n",
      "    train_pool = _build_train_pool(X, y, cat_features, text_features, embedding_features, pairs,\n",
      "  File \"/opt/conda/lib/python3.9/site-packages/catboost/core.py\", line 1189, in _build_train_pool\n",
      "    train_pool = Pool(X, y, cat_features=cat_features, text_features=text_features, embedding_features=embedding_features, pairs=pairs, weight=sample_weight, group_id=group_id,\n",
      "  File \"/opt/conda/lib/python3.9/site-packages/catboost/core.py\", line 628, in __init__\n",
      "    self._init(data, label, cat_features, text_features, embedding_features, pairs, weight, group_id, group_weight, subgroup_id, pairs_weight, baseline, timestamp, feature_names, thread_count)\n",
      "  File \"/opt/conda/lib/python3.9/site-packages/catboost/core.py\", line 1171, in _init\n",
      "    self._init_pool(data, label, cat_features, text_features, embedding_features, pairs, weight, group_id, group_weight, subgroup_id, pairs_weight, baseline, timestamp, feature_names, thread_count)\n",
      "  File \"_catboost.pyx\", line 3755, in _catboost._PoolBase._init_pool\n",
      "  File \"_catboost.pyx\", line 3803, in _catboost._PoolBase._init_pool\n",
      "  File \"_catboost.pyx\", line 3638, in _catboost._PoolBase._init_features_order_layout_pool\n",
      "  File \"_catboost.pyx\", line 2620, in _catboost._set_features_order_data_pd_data_frame\n",
      "_catboost.CatBoostError: features data: pandas.DataFrame column 'Brand' has dtype 'category' but is not in  cat_features list\n",
      "\n",
      "  warnings.warn(\"Estimator fit failed. The score on this train-test\"\n",
      "/opt/conda/lib/python3.9/site-packages/sklearn/model_selection/_validation.py:610: FitFailedWarning: Estimator fit failed. The score on this train-test partition for these parameters will be set to nan. Details: \n",
      "Traceback (most recent call last):\n",
      "  File \"/opt/conda/lib/python3.9/site-packages/sklearn/model_selection/_validation.py\", line 593, in _fit_and_score\n",
      "    estimator.fit(X_train, y_train, **fit_params)\n",
      "  File \"/opt/conda/lib/python3.9/site-packages/catboost/core.py\", line 5299, in fit\n",
      "    return self._fit(X, y, cat_features, None, None, None, sample_weight, None, None, None, None, baseline,\n",
      "  File \"/opt/conda/lib/python3.9/site-packages/catboost/core.py\", line 2021, in _fit\n",
      "    train_params = self._prepare_train_params(\n",
      "  File \"/opt/conda/lib/python3.9/site-packages/catboost/core.py\", line 1907, in _prepare_train_params\n",
      "    train_pool = _build_train_pool(X, y, cat_features, text_features, embedding_features, pairs,\n",
      "  File \"/opt/conda/lib/python3.9/site-packages/catboost/core.py\", line 1189, in _build_train_pool\n",
      "    train_pool = Pool(X, y, cat_features=cat_features, text_features=text_features, embedding_features=embedding_features, pairs=pairs, weight=sample_weight, group_id=group_id,\n",
      "  File \"/opt/conda/lib/python3.9/site-packages/catboost/core.py\", line 628, in __init__\n",
      "    self._init(data, label, cat_features, text_features, embedding_features, pairs, weight, group_id, group_weight, subgroup_id, pairs_weight, baseline, timestamp, feature_names, thread_count)\n",
      "  File \"/opt/conda/lib/python3.9/site-packages/catboost/core.py\", line 1171, in _init\n",
      "    self._init_pool(data, label, cat_features, text_features, embedding_features, pairs, weight, group_id, group_weight, subgroup_id, pairs_weight, baseline, timestamp, feature_names, thread_count)\n",
      "  File \"_catboost.pyx\", line 3755, in _catboost._PoolBase._init_pool\n",
      "  File \"_catboost.pyx\", line 3803, in _catboost._PoolBase._init_pool\n",
      "  File \"_catboost.pyx\", line 3638, in _catboost._PoolBase._init_features_order_layout_pool\n",
      "  File \"_catboost.pyx\", line 2620, in _catboost._set_features_order_data_pd_data_frame\n",
      "_catboost.CatBoostError: features data: pandas.DataFrame column 'Brand' has dtype 'category' but is not in  cat_features list\n",
      "\n",
      "  warnings.warn(\"Estimator fit failed. The score on this train-test\"\n",
      "/opt/conda/lib/python3.9/site-packages/sklearn/model_selection/_validation.py:610: FitFailedWarning: Estimator fit failed. The score on this train-test partition for these parameters will be set to nan. Details: \n",
      "Traceback (most recent call last):\n",
      "  File \"/opt/conda/lib/python3.9/site-packages/sklearn/model_selection/_validation.py\", line 593, in _fit_and_score\n",
      "    estimator.fit(X_train, y_train, **fit_params)\n",
      "  File \"/opt/conda/lib/python3.9/site-packages/catboost/core.py\", line 5299, in fit\n",
      "    return self._fit(X, y, cat_features, None, None, None, sample_weight, None, None, None, None, baseline,\n",
      "  File \"/opt/conda/lib/python3.9/site-packages/catboost/core.py\", line 2021, in _fit\n",
      "    train_params = self._prepare_train_params(\n",
      "  File \"/opt/conda/lib/python3.9/site-packages/catboost/core.py\", line 1907, in _prepare_train_params\n",
      "    train_pool = _build_train_pool(X, y, cat_features, text_features, embedding_features, pairs,\n",
      "  File \"/opt/conda/lib/python3.9/site-packages/catboost/core.py\", line 1189, in _build_train_pool\n",
      "    train_pool = Pool(X, y, cat_features=cat_features, text_features=text_features, embedding_features=embedding_features, pairs=pairs, weight=sample_weight, group_id=group_id,\n",
      "  File \"/opt/conda/lib/python3.9/site-packages/catboost/core.py\", line 628, in __init__\n",
      "    self._init(data, label, cat_features, text_features, embedding_features, pairs, weight, group_id, group_weight, subgroup_id, pairs_weight, baseline, timestamp, feature_names, thread_count)\n",
      "  File \"/opt/conda/lib/python3.9/site-packages/catboost/core.py\", line 1171, in _init\n",
      "    self._init_pool(data, label, cat_features, text_features, embedding_features, pairs, weight, group_id, group_weight, subgroup_id, pairs_weight, baseline, timestamp, feature_names, thread_count)\n",
      "  File \"_catboost.pyx\", line 3755, in _catboost._PoolBase._init_pool\n",
      "  File \"_catboost.pyx\", line 3803, in _catboost._PoolBase._init_pool\n",
      "  File \"_catboost.pyx\", line 3638, in _catboost._PoolBase._init_features_order_layout_pool\n",
      "  File \"_catboost.pyx\", line 2620, in _catboost._set_features_order_data_pd_data_frame\n",
      "_catboost.CatBoostError: features data: pandas.DataFrame column 'Brand' has dtype 'category' but is not in  cat_features list\n",
      "\n",
      "  warnings.warn(\"Estimator fit failed. The score on this train-test\"\n"
     ]
    },
    {
     "name": "stdout",
     "output_type": "stream",
     "text": [
      "Score при depth = 13 : [nan nan]\n",
      "Score mean = nan\n",
      "\n",
      "Score при depth = 15 : [nan nan]\n",
      "Score mean = nan\n",
      "\n"
     ]
    },
    {
     "name": "stderr",
     "output_type": "stream",
     "text": [
      "/opt/conda/lib/python3.9/site-packages/sklearn/model_selection/_validation.py:610: FitFailedWarning: Estimator fit failed. The score on this train-test partition for these parameters will be set to nan. Details: \n",
      "Traceback (most recent call last):\n",
      "  File \"/opt/conda/lib/python3.9/site-packages/sklearn/model_selection/_validation.py\", line 593, in _fit_and_score\n",
      "    estimator.fit(X_train, y_train, **fit_params)\n",
      "  File \"/opt/conda/lib/python3.9/site-packages/catboost/core.py\", line 5299, in fit\n",
      "    return self._fit(X, y, cat_features, None, None, None, sample_weight, None, None, None, None, baseline,\n",
      "  File \"/opt/conda/lib/python3.9/site-packages/catboost/core.py\", line 2021, in _fit\n",
      "    train_params = self._prepare_train_params(\n",
      "  File \"/opt/conda/lib/python3.9/site-packages/catboost/core.py\", line 1907, in _prepare_train_params\n",
      "    train_pool = _build_train_pool(X, y, cat_features, text_features, embedding_features, pairs,\n",
      "  File \"/opt/conda/lib/python3.9/site-packages/catboost/core.py\", line 1189, in _build_train_pool\n",
      "    train_pool = Pool(X, y, cat_features=cat_features, text_features=text_features, embedding_features=embedding_features, pairs=pairs, weight=sample_weight, group_id=group_id,\n",
      "  File \"/opt/conda/lib/python3.9/site-packages/catboost/core.py\", line 628, in __init__\n",
      "    self._init(data, label, cat_features, text_features, embedding_features, pairs, weight, group_id, group_weight, subgroup_id, pairs_weight, baseline, timestamp, feature_names, thread_count)\n",
      "  File \"/opt/conda/lib/python3.9/site-packages/catboost/core.py\", line 1171, in _init\n",
      "    self._init_pool(data, label, cat_features, text_features, embedding_features, pairs, weight, group_id, group_weight, subgroup_id, pairs_weight, baseline, timestamp, feature_names, thread_count)\n",
      "  File \"_catboost.pyx\", line 3755, in _catboost._PoolBase._init_pool\n",
      "  File \"_catboost.pyx\", line 3803, in _catboost._PoolBase._init_pool\n",
      "  File \"_catboost.pyx\", line 3638, in _catboost._PoolBase._init_features_order_layout_pool\n",
      "  File \"_catboost.pyx\", line 2620, in _catboost._set_features_order_data_pd_data_frame\n",
      "_catboost.CatBoostError: features data: pandas.DataFrame column 'Brand' has dtype 'category' but is not in  cat_features list\n",
      "\n",
      "  warnings.warn(\"Estimator fit failed. The score on this train-test\"\n"
     ]
    }
   ],
   "source": [
    "#исследуем работу модели с различными значениями гиперпараметра depth\n",
    "for depth in range(5, 16, 2):\n",
    "    cat_model = CatBoostRegressor(loss_function=\"RMSE\", iterations=20, depth=depth, verbose=10, cat_features=categorical)\n",
    "    cat_cv = cross_val_score(cat_model, features_train, target_train, cv=2)\n",
    "    print(\"Score при depth =\", depth, \":\", cat_cv)\n",
    "    print(\"Score mean =\", sum(cat_cv)/len(cat_cv))\n",
    "    print()"
   ]
  },
  {
   "cell_type": "markdown",
   "metadata": {},
   "source": [
    "Можно отметить, что при увеличении iterations модель незначительно увеличивает точность. Нужно помнить, что скорость обучения модели для нас важна так же, как и точность ее работы, поэтому не будем жертвовать скоростью и выберем оптимальный вариант с числом iterations 85.\n",
    "\n",
    "При изменении параметра depth прослеживается такая же тенденция, поэтому оптимальной глубиной будет число 13."
   ]
  },
  {
   "cell_type": "markdown",
   "metadata": {},
   "source": [
    "Измерим время обучения и работы модели со значением iterations = 85 и depth = 13."
   ]
  },
  {
   "cell_type": "code",
   "execution_count": 49,
   "metadata": {},
   "outputs": [],
   "source": [
    "cat_model_85_13= CatBoostRegressor(loss_function=\"RMSE\", iterations=85, depth=13, verbose=10)"
   ]
  },
  {
   "cell_type": "code",
   "execution_count": 50,
   "metadata": {},
   "outputs": [
    {
     "ename": "CatBoostError",
     "evalue": "features data: pandas.DataFrame column 'Brand' has dtype 'category' but is not in  cat_features list",
     "output_type": "error",
     "traceback": [
      "\u001b[0;31m---------------------------------------------------------------------------\u001b[0m",
      "\u001b[0;31mCatBoostError\u001b[0m                             Traceback (most recent call last)",
      "\u001b[0;32m<timed eval>\u001b[0m in \u001b[0;36m<module>\u001b[0;34m\u001b[0m\n",
      "\u001b[0;32m/opt/conda/lib/python3.9/site-packages/catboost/core.py\u001b[0m in \u001b[0;36mfit\u001b[0;34m(self, X, y, cat_features, sample_weight, baseline, use_best_model, eval_set, verbose, logging_level, plot, column_description, verbose_eval, metric_period, silent, early_stopping_rounds, save_snapshot, snapshot_file, snapshot_interval, init_model, callbacks, log_cout, log_cerr)\u001b[0m\n\u001b[1;32m   5297\u001b[0m             \u001b[0mCatBoostRegressor\u001b[0m\u001b[0;34m.\u001b[0m\u001b[0m_check_is_compatible_loss\u001b[0m\u001b[0;34m(\u001b[0m\u001b[0mparams\u001b[0m\u001b[0;34m[\u001b[0m\u001b[0;34m'loss_function'\u001b[0m\u001b[0;34m]\u001b[0m\u001b[0;34m)\u001b[0m\u001b[0;34m\u001b[0m\u001b[0;34m\u001b[0m\u001b[0m\n\u001b[1;32m   5298\u001b[0m \u001b[0;34m\u001b[0m\u001b[0m\n\u001b[0;32m-> 5299\u001b[0;31m         return self._fit(X, y, cat_features, None, None, None, sample_weight, None, None, None, None, baseline,\n\u001b[0m\u001b[1;32m   5300\u001b[0m                          \u001b[0muse_best_model\u001b[0m\u001b[0;34m,\u001b[0m \u001b[0meval_set\u001b[0m\u001b[0;34m,\u001b[0m \u001b[0mverbose\u001b[0m\u001b[0;34m,\u001b[0m \u001b[0mlogging_level\u001b[0m\u001b[0;34m,\u001b[0m \u001b[0mplot\u001b[0m\u001b[0;34m,\u001b[0m \u001b[0mcolumn_description\u001b[0m\u001b[0;34m,\u001b[0m\u001b[0;34m\u001b[0m\u001b[0;34m\u001b[0m\u001b[0m\n\u001b[1;32m   5301\u001b[0m                          \u001b[0mverbose_eval\u001b[0m\u001b[0;34m,\u001b[0m \u001b[0mmetric_period\u001b[0m\u001b[0;34m,\u001b[0m \u001b[0msilent\u001b[0m\u001b[0;34m,\u001b[0m \u001b[0mearly_stopping_rounds\u001b[0m\u001b[0;34m,\u001b[0m\u001b[0;34m\u001b[0m\u001b[0;34m\u001b[0m\u001b[0m\n",
      "\u001b[0;32m/opt/conda/lib/python3.9/site-packages/catboost/core.py\u001b[0m in \u001b[0;36m_fit\u001b[0;34m(self, X, y, cat_features, text_features, embedding_features, pairs, sample_weight, group_id, group_weight, subgroup_id, pairs_weight, baseline, use_best_model, eval_set, verbose, logging_level, plot, column_description, verbose_eval, metric_period, silent, early_stopping_rounds, save_snapshot, snapshot_file, snapshot_interval, init_model, callbacks, log_cout, log_cerr)\u001b[0m\n\u001b[1;32m   2019\u001b[0m             \u001b[0;32mraise\u001b[0m \u001b[0mCatBoostError\u001b[0m\u001b[0;34m(\u001b[0m\u001b[0;34m\"y may be None only when X is an instance of catboost.Pool or string\"\u001b[0m\u001b[0;34m)\u001b[0m\u001b[0;34m\u001b[0m\u001b[0;34m\u001b[0m\u001b[0m\n\u001b[1;32m   2020\u001b[0m \u001b[0;34m\u001b[0m\u001b[0m\n\u001b[0;32m-> 2021\u001b[0;31m         train_params = self._prepare_train_params(\n\u001b[0m\u001b[1;32m   2022\u001b[0m             \u001b[0mX\u001b[0m\u001b[0;34m=\u001b[0m\u001b[0mX\u001b[0m\u001b[0;34m,\u001b[0m \u001b[0my\u001b[0m\u001b[0;34m=\u001b[0m\u001b[0my\u001b[0m\u001b[0;34m,\u001b[0m \u001b[0mcat_features\u001b[0m\u001b[0;34m=\u001b[0m\u001b[0mcat_features\u001b[0m\u001b[0;34m,\u001b[0m \u001b[0mtext_features\u001b[0m\u001b[0;34m=\u001b[0m\u001b[0mtext_features\u001b[0m\u001b[0;34m,\u001b[0m \u001b[0membedding_features\u001b[0m\u001b[0;34m=\u001b[0m\u001b[0membedding_features\u001b[0m\u001b[0;34m,\u001b[0m\u001b[0;34m\u001b[0m\u001b[0;34m\u001b[0m\u001b[0m\n\u001b[1;32m   2023\u001b[0m             \u001b[0mpairs\u001b[0m\u001b[0;34m=\u001b[0m\u001b[0mpairs\u001b[0m\u001b[0;34m,\u001b[0m \u001b[0msample_weight\u001b[0m\u001b[0;34m=\u001b[0m\u001b[0msample_weight\u001b[0m\u001b[0;34m,\u001b[0m \u001b[0mgroup_id\u001b[0m\u001b[0;34m=\u001b[0m\u001b[0mgroup_id\u001b[0m\u001b[0;34m,\u001b[0m \u001b[0mgroup_weight\u001b[0m\u001b[0;34m=\u001b[0m\u001b[0mgroup_weight\u001b[0m\u001b[0;34m,\u001b[0m\u001b[0;34m\u001b[0m\u001b[0;34m\u001b[0m\u001b[0m\n",
      "\u001b[0;32m/opt/conda/lib/python3.9/site-packages/catboost/core.py\u001b[0m in \u001b[0;36m_prepare_train_params\u001b[0;34m(self, X, y, cat_features, text_features, embedding_features, pairs, sample_weight, group_id, group_weight, subgroup_id, pairs_weight, baseline, use_best_model, eval_set, verbose, logging_level, plot, column_description, verbose_eval, metric_period, silent, early_stopping_rounds, save_snapshot, snapshot_file, snapshot_interval, init_model, callbacks)\u001b[0m\n\u001b[1;32m   1905\u001b[0m         \u001b[0membedding_features\u001b[0m \u001b[0;34m=\u001b[0m \u001b[0m_process_feature_indices\u001b[0m\u001b[0;34m(\u001b[0m\u001b[0membedding_features\u001b[0m\u001b[0;34m,\u001b[0m \u001b[0mX\u001b[0m\u001b[0;34m,\u001b[0m \u001b[0mparams\u001b[0m\u001b[0;34m,\u001b[0m \u001b[0;34m'embedding_features'\u001b[0m\u001b[0;34m)\u001b[0m\u001b[0;34m\u001b[0m\u001b[0;34m\u001b[0m\u001b[0m\n\u001b[1;32m   1906\u001b[0m \u001b[0;34m\u001b[0m\u001b[0m\n\u001b[0;32m-> 1907\u001b[0;31m         train_pool = _build_train_pool(X, y, cat_features, text_features, embedding_features, pairs,\n\u001b[0m\u001b[1;32m   1908\u001b[0m                                        \u001b[0msample_weight\u001b[0m\u001b[0;34m,\u001b[0m \u001b[0mgroup_id\u001b[0m\u001b[0;34m,\u001b[0m \u001b[0mgroup_weight\u001b[0m\u001b[0;34m,\u001b[0m \u001b[0msubgroup_id\u001b[0m\u001b[0;34m,\u001b[0m \u001b[0mpairs_weight\u001b[0m\u001b[0;34m,\u001b[0m\u001b[0;34m\u001b[0m\u001b[0;34m\u001b[0m\u001b[0m\n\u001b[1;32m   1909\u001b[0m                                        baseline, column_description)\n",
      "\u001b[0;32m/opt/conda/lib/python3.9/site-packages/catboost/core.py\u001b[0m in \u001b[0;36m_build_train_pool\u001b[0;34m(X, y, cat_features, text_features, embedding_features, pairs, sample_weight, group_id, group_weight, subgroup_id, pairs_weight, baseline, column_description)\u001b[0m\n\u001b[1;32m   1187\u001b[0m         \u001b[0;32mif\u001b[0m \u001b[0my\u001b[0m \u001b[0;32mis\u001b[0m \u001b[0;32mNone\u001b[0m\u001b[0;34m:\u001b[0m\u001b[0;34m\u001b[0m\u001b[0;34m\u001b[0m\u001b[0m\n\u001b[1;32m   1188\u001b[0m             \u001b[0;32mraise\u001b[0m \u001b[0mCatBoostError\u001b[0m\u001b[0;34m(\u001b[0m\u001b[0;34m\"y has not initialized in fit(): X is not catboost.Pool object, y must be not None in fit().\"\u001b[0m\u001b[0;34m)\u001b[0m\u001b[0;34m\u001b[0m\u001b[0;34m\u001b[0m\u001b[0m\n\u001b[0;32m-> 1189\u001b[0;31m         train_pool = Pool(X, y, cat_features=cat_features, text_features=text_features, embedding_features=embedding_features, pairs=pairs, weight=sample_weight, group_id=group_id,\n\u001b[0m\u001b[1;32m   1190\u001b[0m                           group_weight=group_weight, subgroup_id=subgroup_id, pairs_weight=pairs_weight, baseline=baseline)\n\u001b[1;32m   1191\u001b[0m     \u001b[0;32mreturn\u001b[0m \u001b[0mtrain_pool\u001b[0m\u001b[0;34m\u001b[0m\u001b[0;34m\u001b[0m\u001b[0m\n",
      "\u001b[0;32m/opt/conda/lib/python3.9/site-packages/catboost/core.py\u001b[0m in \u001b[0;36m__init__\u001b[0;34m(self, data, label, cat_features, text_features, embedding_features, column_description, pairs, delimiter, has_header, ignore_csv_quoting, weight, group_id, group_weight, subgroup_id, pairs_weight, baseline, timestamp, feature_names, thread_count, log_cout, log_cerr)\u001b[0m\n\u001b[1;32m    626\u001b[0m                     )\n\u001b[1;32m    627\u001b[0m \u001b[0;34m\u001b[0m\u001b[0m\n\u001b[0;32m--> 628\u001b[0;31m                 \u001b[0mself\u001b[0m\u001b[0;34m.\u001b[0m\u001b[0m_init\u001b[0m\u001b[0;34m(\u001b[0m\u001b[0mdata\u001b[0m\u001b[0;34m,\u001b[0m \u001b[0mlabel\u001b[0m\u001b[0;34m,\u001b[0m \u001b[0mcat_features\u001b[0m\u001b[0;34m,\u001b[0m \u001b[0mtext_features\u001b[0m\u001b[0;34m,\u001b[0m \u001b[0membedding_features\u001b[0m\u001b[0;34m,\u001b[0m \u001b[0mpairs\u001b[0m\u001b[0;34m,\u001b[0m \u001b[0mweight\u001b[0m\u001b[0;34m,\u001b[0m \u001b[0mgroup_id\u001b[0m\u001b[0;34m,\u001b[0m \u001b[0mgroup_weight\u001b[0m\u001b[0;34m,\u001b[0m \u001b[0msubgroup_id\u001b[0m\u001b[0;34m,\u001b[0m \u001b[0mpairs_weight\u001b[0m\u001b[0;34m,\u001b[0m \u001b[0mbaseline\u001b[0m\u001b[0;34m,\u001b[0m \u001b[0mtimestamp\u001b[0m\u001b[0;34m,\u001b[0m \u001b[0mfeature_names\u001b[0m\u001b[0;34m,\u001b[0m \u001b[0mthread_count\u001b[0m\u001b[0;34m)\u001b[0m\u001b[0;34m\u001b[0m\u001b[0;34m\u001b[0m\u001b[0m\n\u001b[0m\u001b[1;32m    629\u001b[0m         \u001b[0msuper\u001b[0m\u001b[0;34m(\u001b[0m\u001b[0mPool\u001b[0m\u001b[0;34m,\u001b[0m \u001b[0mself\u001b[0m\u001b[0;34m)\u001b[0m\u001b[0;34m.\u001b[0m\u001b[0m__init__\u001b[0m\u001b[0;34m(\u001b[0m\u001b[0;34m)\u001b[0m\u001b[0;34m\u001b[0m\u001b[0;34m\u001b[0m\u001b[0m\n\u001b[1;32m    630\u001b[0m \u001b[0;34m\u001b[0m\u001b[0m\n",
      "\u001b[0;32m/opt/conda/lib/python3.9/site-packages/catboost/core.py\u001b[0m in \u001b[0;36m_init\u001b[0;34m(self, data, label, cat_features, text_features, embedding_features, pairs, weight, group_id, group_weight, subgroup_id, pairs_weight, baseline, timestamp, feature_names, thread_count)\u001b[0m\n\u001b[1;32m   1169\u001b[0m             \u001b[0mtimestamp\u001b[0m \u001b[0;34m=\u001b[0m \u001b[0mself\u001b[0m\u001b[0;34m.\u001b[0m\u001b[0m_if_pandas_to_numpy\u001b[0m\u001b[0;34m(\u001b[0m\u001b[0mtimestamp\u001b[0m\u001b[0;34m)\u001b[0m\u001b[0;34m\u001b[0m\u001b[0;34m\u001b[0m\u001b[0m\n\u001b[1;32m   1170\u001b[0m             \u001b[0mself\u001b[0m\u001b[0;34m.\u001b[0m\u001b[0m_check_timestamp_shape\u001b[0m\u001b[0;34m(\u001b[0m\u001b[0mtimestamp\u001b[0m\u001b[0;34m,\u001b[0m \u001b[0msamples_count\u001b[0m\u001b[0;34m)\u001b[0m\u001b[0;34m\u001b[0m\u001b[0;34m\u001b[0m\u001b[0m\n\u001b[0;32m-> 1171\u001b[0;31m         \u001b[0mself\u001b[0m\u001b[0;34m.\u001b[0m\u001b[0m_init_pool\u001b[0m\u001b[0;34m(\u001b[0m\u001b[0mdata\u001b[0m\u001b[0;34m,\u001b[0m \u001b[0mlabel\u001b[0m\u001b[0;34m,\u001b[0m \u001b[0mcat_features\u001b[0m\u001b[0;34m,\u001b[0m \u001b[0mtext_features\u001b[0m\u001b[0;34m,\u001b[0m \u001b[0membedding_features\u001b[0m\u001b[0;34m,\u001b[0m \u001b[0mpairs\u001b[0m\u001b[0;34m,\u001b[0m \u001b[0mweight\u001b[0m\u001b[0;34m,\u001b[0m \u001b[0mgroup_id\u001b[0m\u001b[0;34m,\u001b[0m \u001b[0mgroup_weight\u001b[0m\u001b[0;34m,\u001b[0m \u001b[0msubgroup_id\u001b[0m\u001b[0;34m,\u001b[0m \u001b[0mpairs_weight\u001b[0m\u001b[0;34m,\u001b[0m \u001b[0mbaseline\u001b[0m\u001b[0;34m,\u001b[0m \u001b[0mtimestamp\u001b[0m\u001b[0;34m,\u001b[0m \u001b[0mfeature_names\u001b[0m\u001b[0;34m,\u001b[0m \u001b[0mthread_count\u001b[0m\u001b[0;34m)\u001b[0m\u001b[0;34m\u001b[0m\u001b[0;34m\u001b[0m\u001b[0m\n\u001b[0m\u001b[1;32m   1172\u001b[0m \u001b[0;34m\u001b[0m\u001b[0m\n\u001b[1;32m   1173\u001b[0m \u001b[0;34m\u001b[0m\u001b[0m\n",
      "\u001b[0;32m_catboost.pyx\u001b[0m in \u001b[0;36m_catboost._PoolBase._init_pool\u001b[0;34m()\u001b[0m\n",
      "\u001b[0;32m_catboost.pyx\u001b[0m in \u001b[0;36m_catboost._PoolBase._init_pool\u001b[0;34m()\u001b[0m\n",
      "\u001b[0;32m_catboost.pyx\u001b[0m in \u001b[0;36m_catboost._PoolBase._init_features_order_layout_pool\u001b[0;34m()\u001b[0m\n",
      "\u001b[0;32m_catboost.pyx\u001b[0m in \u001b[0;36m_catboost._set_features_order_data_pd_data_frame\u001b[0;34m()\u001b[0m\n",
      "\u001b[0;31mCatBoostError\u001b[0m: features data: pandas.DataFrame column 'Brand' has dtype 'category' but is not in  cat_features list"
     ]
    }
   ],
   "source": [
    "%%time\n",
    "cat_model_85_13.fit(features_train, target_train, cat_features=categorical)"
   ]
  },
  {
   "cell_type": "code",
   "execution_count": null,
   "metadata": {
    "scrolled": true
   },
   "outputs": [],
   "source": [
    "%%time\n",
    "predicted_cat_85_13 = pd.Series(cat_model_85_13.predict(features_test))"
   ]
  },
  {
   "cell_type": "code",
   "execution_count": null,
   "metadata": {},
   "outputs": [],
   "source": [
    "rmse(target_test, predicted_cat_85_13)"
   ]
  },
  {
   "cell_type": "markdown",
   "metadata": {},
   "source": [
    "LightGBM"
   ]
  },
  {
   "cell_type": "code",
   "execution_count": null,
   "metadata": {},
   "outputs": [],
   "source": [
    "lgbm_model = LGBMRegressor()"
   ]
  },
  {
   "cell_type": "code",
   "execution_count": null,
   "metadata": {},
   "outputs": [],
   "source": [
    "%%time\n",
    "lgbm_model.fit(features_train, target_train)"
   ]
  },
  {
   "cell_type": "code",
   "execution_count": null,
   "metadata": {
    "scrolled": true
   },
   "outputs": [],
   "source": [
    "%%time\n",
    "predictions_lgbm = lgbm_model.predict(features_test)"
   ]
  },
  {
   "cell_type": "code",
   "execution_count": null,
   "metadata": {},
   "outputs": [],
   "source": [
    "rmse(target_test, predictions_lgbm)"
   ]
  },
  {
   "cell_type": "markdown",
   "metadata": {},
   "source": [
    "## Вывод"
   ]
  },
  {
   "cell_type": "markdown",
   "metadata": {},
   "source": [
    "Сравним результаты."
   ]
  },
  {
   "cell_type": "code",
   "execution_count": null,
   "metadata": {},
   "outputs": [],
   "source": [
    "models = [['LR', 38.7, 321, 2787], ['CBR', 27, 109, 1736], \n",
    "       ['LGB', 6.82, 924, 1766]] \n",
    "    \n",
    "df = pd.DataFrame(models, columns =['model', 'train_time, sec', 'work_time, msec', 'rmse']) \n",
    "df "
   ]
  },
  {
   "cell_type": "markdown",
   "metadata": {},
   "source": [
    "Время предсказания любой модели значительно меньше, чем её обучение. \n",
    "Важно, чтобы время предсказания было как можно меньше - обучаем модель мы только один раз, но предсказывать она может до бесконечности."
   ]
  },
  {
   "cell_type": "markdown",
   "metadata": {},
   "source": [
    "Метрика RMSE лучше всего выглядит у модели CBR, время ее работы также лучше, чем у других моделей. Быстрее всего обучается модель LGB и ее точность сопоставима с CBR, но время ее работы очень большое. У модели LR самое большое время обучения и низкая точность. Самым оптимальным вариантом представляется модель CBR и ее можно посоветовать сервису как прототип."
   ]
  }
 ],
 "metadata": {
  "ExecuteTimeLog": [
   {
    "duration": 1272,
    "start_time": "2022-07-25T05:55:57.521Z"
   },
   {
    "duration": 1198,
    "start_time": "2022-07-25T05:56:31.725Z"
   },
   {
    "duration": 149,
    "start_time": "2022-07-25T05:56:59.217Z"
   },
   {
    "duration": 28,
    "start_time": "2022-07-25T05:58:19.522Z"
   },
   {
    "duration": 96,
    "start_time": "2022-07-25T05:58:38.654Z"
   },
   {
    "duration": 96,
    "start_time": "2022-07-25T05:59:43.818Z"
   },
   {
    "duration": 1835,
    "start_time": "2022-07-25T06:00:15.431Z"
   },
   {
    "duration": 98,
    "start_time": "2022-07-25T06:03:32.169Z"
   },
   {
    "duration": 5,
    "start_time": "2022-07-25T06:03:44.913Z"
   },
   {
    "duration": 1170,
    "start_time": "2022-07-25T06:04:14.274Z"
   },
   {
    "duration": 231,
    "start_time": "2022-07-25T06:05:51.107Z"
   },
   {
    "duration": 3,
    "start_time": "2022-07-25T06:06:20.267Z"
   },
   {
    "duration": 167,
    "start_time": "2022-07-25T06:06:32.467Z"
   },
   {
    "duration": 7,
    "start_time": "2022-07-25T06:08:22.127Z"
   },
   {
    "duration": 348,
    "start_time": "2022-07-25T06:08:36.783Z"
   },
   {
    "duration": 46,
    "start_time": "2022-07-25T06:08:50.556Z"
   },
   {
    "duration": 4,
    "start_time": "2022-07-25T06:09:07.759Z"
   },
   {
    "duration": 2,
    "start_time": "2022-07-25T06:11:41.327Z"
   },
   {
    "duration": 38812,
    "start_time": "2022-07-25T06:13:04.816Z"
   },
   {
    "duration": 325,
    "start_time": "2022-07-25T06:14:08.407Z"
   },
   {
    "duration": 5,
    "start_time": "2022-07-25T06:14:24.105Z"
   },
   {
    "duration": 63094,
    "start_time": "2022-07-25T06:14:59.864Z"
   },
   {
    "duration": 56753,
    "start_time": "2022-07-25T06:16:26.737Z"
   },
   {
    "duration": 3,
    "start_time": "2022-07-25T06:37:52.109Z"
   },
   {
    "duration": 26985,
    "start_time": "2022-07-25T06:38:17.029Z"
   },
   {
    "duration": 183,
    "start_time": "2022-07-25T06:39:19.535Z"
   },
   {
    "duration": 112,
    "start_time": "2022-07-25T06:39:31.718Z"
   },
   {
    "duration": 5,
    "start_time": "2022-07-25T06:39:54.903Z"
   },
   {
    "duration": 4,
    "start_time": "2022-07-25T06:40:28.199Z"
   },
   {
    "duration": 3,
    "start_time": "2022-07-25T06:40:40.807Z"
   },
   {
    "duration": 152790,
    "start_time": "2022-07-25T06:40:53.839Z"
   },
   {
    "duration": 4,
    "start_time": "2022-07-25T06:55:02.880Z"
   },
   {
    "duration": 3,
    "start_time": "2022-07-25T06:55:06.071Z"
   },
   {
    "duration": 442199,
    "start_time": "2022-07-25T06:55:07.039Z"
   },
   {
    "duration": 20,
    "start_time": "2022-07-25T08:07:22.942Z"
   },
   {
    "duration": 3,
    "start_time": "2022-07-25T08:17:40.230Z"
   },
   {
    "duration": 3,
    "start_time": "2022-07-25T08:17:47.308Z"
   },
   {
    "duration": 20016,
    "start_time": "2022-07-25T08:17:49.212Z"
   },
   {
    "duration": 4,
    "start_time": "2022-07-25T08:22:07.799Z"
   },
   {
    "duration": 99,
    "start_time": "2022-07-25T08:22:20.446Z"
   },
   {
    "duration": 3,
    "start_time": "2022-07-25T08:22:25.959Z"
   },
   {
    "duration": 7744,
    "start_time": "2022-07-25T08:22:27.191Z"
   },
   {
    "duration": 928,
    "start_time": "2022-07-25T08:23:02.296Z"
   },
   {
    "duration": 5,
    "start_time": "2022-07-25T08:23:19.647Z"
   },
   {
    "duration": 2,
    "start_time": "2022-07-25T08:23:58.776Z"
   },
   {
    "duration": 6822,
    "start_time": "2022-07-25T08:23:59.704Z"
   },
   {
    "duration": 928,
    "start_time": "2022-07-25T08:24:08.799Z"
   },
   {
    "duration": 5,
    "start_time": "2022-07-25T08:24:16.191Z"
   },
   {
    "duration": 13,
    "start_time": "2022-07-25T09:30:07.058Z"
   },
   {
    "duration": 9,
    "start_time": "2022-07-25T09:30:49.273Z"
   },
   {
    "duration": 1244,
    "start_time": "2022-07-25T12:41:18.054Z"
   },
   {
    "duration": 2616,
    "start_time": "2022-07-25T12:41:27.084Z"
   },
   {
    "duration": 132,
    "start_time": "2022-07-25T12:41:30.684Z"
   },
   {
    "duration": 24,
    "start_time": "2022-07-25T12:41:45.355Z"
   },
   {
    "duration": 83,
    "start_time": "2022-07-25T12:41:47.372Z"
   },
   {
    "duration": 13933,
    "start_time": "2022-07-25T12:47:25.848Z"
   },
   {
    "duration": 11,
    "start_time": "2022-07-25T12:48:27.947Z"
   },
   {
    "duration": 89,
    "start_time": "2022-07-25T12:49:14.520Z"
   },
   {
    "duration": 1306,
    "start_time": "2022-08-03T09:26:03.067Z"
   },
   {
    "duration": 1316,
    "start_time": "2022-08-03T09:36:30.531Z"
   },
   {
    "duration": 120,
    "start_time": "2022-08-03T09:36:31.849Z"
   },
   {
    "duration": 26,
    "start_time": "2022-08-03T09:36:56.247Z"
   },
   {
    "duration": 72,
    "start_time": "2022-08-03T09:37:02.735Z"
   },
   {
    "duration": 13244,
    "start_time": "2022-08-03T09:43:57.333Z"
   },
   {
    "duration": 14,
    "start_time": "2022-08-03T09:44:23.668Z"
   },
   {
    "duration": 13115,
    "start_time": "2022-08-03T09:46:50.964Z"
   },
   {
    "duration": 28,
    "start_time": "2022-08-03T09:47:26.454Z"
   },
   {
    "duration": 12733,
    "start_time": "2022-08-03T09:48:54.447Z"
   },
   {
    "duration": 85,
    "start_time": "2022-08-03T09:52:18.023Z"
   },
   {
    "duration": 137,
    "start_time": "2022-08-03T09:52:33.775Z"
   },
   {
    "duration": 61,
    "start_time": "2022-08-03T09:54:37.754Z"
   },
   {
    "duration": 255,
    "start_time": "2022-08-03T09:56:28.491Z"
   },
   {
    "duration": 237,
    "start_time": "2022-08-03T09:58:13.230Z"
   },
   {
    "duration": 1323,
    "start_time": "2022-08-03T10:00:38.405Z"
   },
   {
    "duration": 48,
    "start_time": "2022-08-03T10:07:07.691Z"
   },
   {
    "duration": 4,
    "start_time": "2022-08-03T10:07:21.131Z"
   },
   {
    "duration": 10,
    "start_time": "2022-08-03T10:20:03.659Z"
   },
   {
    "duration": 43,
    "start_time": "2022-08-03T10:21:47.244Z"
   },
   {
    "duration": 41,
    "start_time": "2022-08-03T10:22:37.357Z"
   },
   {
    "duration": 8,
    "start_time": "2022-08-03T10:25:23.086Z"
   },
   {
    "duration": 31,
    "start_time": "2022-08-03T10:27:30.324Z"
   },
   {
    "duration": 31,
    "start_time": "2022-08-03T10:32:35.992Z"
   },
   {
    "duration": 13,
    "start_time": "2022-08-03T10:35:12.521Z"
   },
   {
    "duration": 25,
    "start_time": "2022-08-03T10:36:45.693Z"
   },
   {
    "duration": 3,
    "start_time": "2022-08-03T10:37:03.538Z"
   },
   {
    "duration": 24,
    "start_time": "2022-08-03T10:38:24.533Z"
   },
   {
    "duration": 1187,
    "start_time": "2022-08-03T11:10:33.152Z"
   },
   {
    "duration": 316,
    "start_time": "2022-08-03T11:10:46.527Z"
   },
   {
    "duration": 3,
    "start_time": "2022-08-03T11:10:47.745Z"
   },
   {
    "duration": 150,
    "start_time": "2022-08-03T11:11:19.844Z"
   },
   {
    "duration": 10,
    "start_time": "2022-08-03T11:11:39.176Z"
   },
   {
    "duration": 465,
    "start_time": "2022-08-03T11:11:40.688Z"
   },
   {
    "duration": 58,
    "start_time": "2022-08-03T11:11:46.037Z"
   },
   {
    "duration": 3,
    "start_time": "2022-08-03T11:15:42.482Z"
   },
   {
    "duration": 116,
    "start_time": "2022-08-03T11:20:53.893Z"
   },
   {
    "duration": 3,
    "start_time": "2022-08-03T11:22:31.260Z"
   },
   {
    "duration": 2,
    "start_time": "2022-08-03T11:22:32.565Z"
   },
   {
    "duration": 6,
    "start_time": "2022-08-03T11:22:33.182Z"
   },
   {
    "duration": 13,
    "start_time": "2022-08-03T11:22:33.732Z"
   },
   {
    "duration": 461,
    "start_time": "2022-08-03T11:22:34.237Z"
   },
   {
    "duration": 58,
    "start_time": "2022-08-03T11:22:34.740Z"
   },
   {
    "duration": 2,
    "start_time": "2022-08-03T11:22:36.669Z"
   },
   {
    "duration": 12,
    "start_time": "2022-08-03T11:22:37.646Z"
   },
   {
    "duration": 2,
    "start_time": "2022-08-03T11:23:04.959Z"
   },
   {
    "duration": 117,
    "start_time": "2022-08-03T11:23:05.743Z"
   },
   {
    "duration": 180,
    "start_time": "2022-08-03T11:24:03.333Z"
   },
   {
    "duration": 3,
    "start_time": "2022-08-03T11:24:04.751Z"
   },
   {
    "duration": 6,
    "start_time": "2022-08-03T11:24:05.198Z"
   },
   {
    "duration": 12,
    "start_time": "2022-08-03T11:24:05.645Z"
   },
   {
    "duration": 452,
    "start_time": "2022-08-03T11:24:06.086Z"
   },
   {
    "duration": 60,
    "start_time": "2022-08-03T11:24:06.542Z"
   },
   {
    "duration": 3,
    "start_time": "2022-08-03T11:24:07.934Z"
   },
   {
    "duration": 116,
    "start_time": "2022-08-03T11:24:08.566Z"
   },
   {
    "duration": 3,
    "start_time": "2022-08-03T11:24:53.832Z"
   },
   {
    "duration": 4,
    "start_time": "2022-08-03T11:25:11.958Z"
   },
   {
    "duration": 1021,
    "start_time": "2022-08-03T11:30:01.826Z"
   },
   {
    "duration": 324,
    "start_time": "2022-08-03T11:30:34.946Z"
   },
   {
    "duration": 3,
    "start_time": "2022-08-03T11:30:59.028Z"
   },
   {
    "duration": 7,
    "start_time": "2022-08-03T11:31:00.128Z"
   },
   {
    "duration": 14,
    "start_time": "2022-08-03T11:31:10.075Z"
   },
   {
    "duration": 481,
    "start_time": "2022-08-03T11:31:48.122Z"
   },
   {
    "duration": 66,
    "start_time": "2022-08-03T11:31:49.586Z"
   },
   {
    "duration": 935,
    "start_time": "2022-08-03T11:33:45.029Z"
   },
   {
    "duration": 951,
    "start_time": "2022-08-03T11:34:24.534Z"
   },
   {
    "duration": 307,
    "start_time": "2022-08-03T11:34:26.514Z"
   },
   {
    "duration": 3,
    "start_time": "2022-08-03T11:34:29.028Z"
   },
   {
    "duration": 7,
    "start_time": "2022-08-03T11:34:29.492Z"
   },
   {
    "duration": 13,
    "start_time": "2022-08-03T11:34:30.060Z"
   },
   {
    "duration": 482,
    "start_time": "2022-08-03T11:34:30.765Z"
   },
   {
    "duration": 64,
    "start_time": "2022-08-03T11:34:31.332Z"
   },
   {
    "duration": 3,
    "start_time": "2022-08-03T11:36:01.773Z"
   },
   {
    "duration": 108,
    "start_time": "2022-08-03T11:36:02.813Z"
   },
   {
    "duration": 3,
    "start_time": "2022-08-03T11:36:08.725Z"
   },
   {
    "duration": 3,
    "start_time": "2022-08-03T11:36:12.421Z"
   },
   {
    "duration": 53679,
    "start_time": "2022-08-03T11:36:13.525Z"
   },
   {
    "duration": 304,
    "start_time": "2022-08-03T11:37:07.206Z"
   },
   {
    "duration": 1153,
    "start_time": "2022-08-03T11:38:15.536Z"
   },
   {
    "duration": 830,
    "start_time": "2022-08-03T11:38:17.927Z"
   },
   {
    "duration": 125,
    "start_time": "2022-08-03T11:38:20.885Z"
   },
   {
    "duration": 26,
    "start_time": "2022-08-03T11:38:23.381Z"
   },
   {
    "duration": 78,
    "start_time": "2022-08-03T11:38:27.676Z"
   },
   {
    "duration": 13613,
    "start_time": "2022-08-03T11:38:29.452Z"
   },
   {
    "duration": 12969,
    "start_time": "2022-08-03T11:38:43.827Z"
   },
   {
    "duration": 12837,
    "start_time": "2022-08-03T11:39:05.420Z"
   },
   {
    "duration": 83,
    "start_time": "2022-08-03T11:39:28.285Z"
   },
   {
    "duration": 357,
    "start_time": "2022-08-03T11:39:36.132Z"
   },
   {
    "duration": 231,
    "start_time": "2022-08-03T11:39:40.956Z"
   },
   {
    "duration": 1053,
    "start_time": "2022-08-03T11:39:42.780Z"
   },
   {
    "duration": 32,
    "start_time": "2022-08-03T11:39:49.468Z"
   },
   {
    "duration": 9,
    "start_time": "2022-08-03T11:39:57.819Z"
   },
   {
    "duration": 12,
    "start_time": "2022-08-03T11:40:00.950Z"
   },
   {
    "duration": 30,
    "start_time": "2022-08-03T11:40:02.190Z"
   },
   {
    "duration": 14,
    "start_time": "2022-08-03T11:40:08.069Z"
   },
   {
    "duration": 26,
    "start_time": "2022-08-03T11:40:09.469Z"
   },
   {
    "duration": 5,
    "start_time": "2022-08-03T11:40:10.372Z"
   },
   {
    "duration": 26,
    "start_time": "2022-08-03T11:40:12.772Z"
   },
   {
    "duration": 1081,
    "start_time": "2022-08-03T11:40:23.149Z"
   },
   {
    "duration": 323,
    "start_time": "2022-08-03T11:40:31.522Z"
   },
   {
    "duration": 3,
    "start_time": "2022-08-03T11:40:33.293Z"
   },
   {
    "duration": 142,
    "start_time": "2022-08-03T11:40:34.053Z"
   },
   {
    "duration": 9,
    "start_time": "2022-08-03T11:40:34.854Z"
   },
   {
    "duration": 479,
    "start_time": "2022-08-03T11:40:37.351Z"
   },
   {
    "duration": 53,
    "start_time": "2022-08-03T11:40:37.933Z"
   },
   {
    "duration": 3,
    "start_time": "2022-08-03T11:40:41.925Z"
   },
   {
    "duration": 115,
    "start_time": "2022-08-03T11:40:43.022Z"
   },
   {
    "duration": 3,
    "start_time": "2022-08-03T11:40:50.669Z"
   },
   {
    "duration": 3,
    "start_time": "2022-08-03T11:40:55.868Z"
   },
   {
    "duration": 54677,
    "start_time": "2022-08-03T11:40:58.225Z"
   },
   {
    "duration": 216,
    "start_time": "2022-08-03T11:42:20.790Z"
   },
   {
    "duration": 5,
    "start_time": "2022-08-03T11:42:23.773Z"
   },
   {
    "duration": 2714,
    "start_time": "2022-08-03T11:42:26.846Z"
   },
   {
    "duration": 3369,
    "start_time": "2022-08-03T11:42:53.616Z"
   },
   {
    "duration": 183,
    "start_time": "2022-08-03T11:45:02.432Z"
   },
   {
    "duration": 3,
    "start_time": "2022-08-03T11:45:06.951Z"
   },
   {
    "duration": 3,
    "start_time": "2022-08-03T11:45:12.166Z"
   },
   {
    "duration": 52742,
    "start_time": "2022-08-03T11:45:13.064Z"
   },
   {
    "duration": 270,
    "start_time": "2022-08-03T11:46:18.537Z"
   },
   {
    "duration": 6,
    "start_time": "2022-08-03T11:46:21.192Z"
   },
   {
    "duration": 3214,
    "start_time": "2022-08-03T11:46:22.919Z"
   },
   {
    "duration": 3598,
    "start_time": "2022-08-03T11:46:42.041Z"
   },
   {
    "duration": 3,
    "start_time": "2022-08-03T11:46:51.119Z"
   },
   {
    "duration": 2213,
    "start_time": "2022-08-03T11:46:59.121Z"
   },
   {
    "duration": 133,
    "start_time": "2022-08-03T11:48:32.362Z"
   },
   {
    "duration": 3,
    "start_time": "2022-08-03T11:48:33.169Z"
   },
   {
    "duration": 3,
    "start_time": "2022-08-03T11:48:37.219Z"
   },
   {
    "duration": 57649,
    "start_time": "2022-08-03T11:48:37.953Z"
   },
   {
    "duration": 297,
    "start_time": "2022-08-03T11:49:35.604Z"
   },
   {
    "duration": 5,
    "start_time": "2022-08-03T11:49:40.523Z"
   },
   {
    "duration": 2832,
    "start_time": "2022-08-03T11:49:53.416Z"
   },
   {
    "duration": 1141,
    "start_time": "2022-08-03T11:51:45.862Z"
   },
   {
    "duration": 795,
    "start_time": "2022-08-03T11:51:47.005Z"
   },
   {
    "duration": 124,
    "start_time": "2022-08-03T11:51:47.801Z"
   },
   {
    "duration": 27,
    "start_time": "2022-08-03T11:51:49.649Z"
   },
   {
    "duration": 73,
    "start_time": "2022-08-03T11:51:50.722Z"
   },
   {
    "duration": 13109,
    "start_time": "2022-08-03T11:51:52.154Z"
   },
   {
    "duration": 13069,
    "start_time": "2022-08-03T11:52:08.771Z"
   },
   {
    "duration": 12703,
    "start_time": "2022-08-03T11:52:23.372Z"
   },
   {
    "duration": 83,
    "start_time": "2022-08-03T11:52:46.179Z"
   },
   {
    "duration": 382,
    "start_time": "2022-08-03T11:52:53.426Z"
   },
   {
    "duration": 255,
    "start_time": "2022-08-03T11:52:54.179Z"
   },
   {
    "duration": 1198,
    "start_time": "2022-08-03T11:52:57.370Z"
   },
   {
    "duration": 39,
    "start_time": "2022-08-03T11:53:00.292Z"
   },
   {
    "duration": 9,
    "start_time": "2022-08-03T11:53:03.659Z"
   },
   {
    "duration": 9,
    "start_time": "2022-08-03T11:53:04.510Z"
   },
   {
    "duration": 31,
    "start_time": "2022-08-03T11:53:05.414Z"
   },
   {
    "duration": 13,
    "start_time": "2022-08-03T11:53:07.514Z"
   },
   {
    "duration": 26,
    "start_time": "2022-08-03T11:53:08.412Z"
   },
   {
    "duration": 4,
    "start_time": "2022-08-03T11:53:09.013Z"
   },
   {
    "duration": 28,
    "start_time": "2022-08-03T11:53:09.738Z"
   },
   {
    "duration": 1026,
    "start_time": "2022-08-03T11:53:17.718Z"
   },
   {
    "duration": 333,
    "start_time": "2022-08-03T11:53:24.705Z"
   },
   {
    "duration": 3,
    "start_time": "2022-08-03T11:53:26.228Z"
   },
   {
    "duration": 160,
    "start_time": "2022-08-03T11:53:26.843Z"
   },
   {
    "duration": 10,
    "start_time": "2022-08-03T11:53:27.644Z"
   },
   {
    "duration": 468,
    "start_time": "2022-08-03T11:53:28.627Z"
   },
   {
    "duration": 56,
    "start_time": "2022-08-03T11:53:29.435Z"
   },
   {
    "duration": 3,
    "start_time": "2022-08-03T11:53:32.514Z"
   },
   {
    "duration": 2,
    "start_time": "2022-08-03T11:53:33.243Z"
   },
   {
    "duration": 4,
    "start_time": "2022-08-03T11:53:34.787Z"
   },
   {
    "duration": 2,
    "start_time": "2022-08-03T11:53:42.147Z"
   },
   {
    "duration": 54355,
    "start_time": "2022-08-03T11:53:43.155Z"
   },
   {
    "duration": 488,
    "start_time": "2022-08-03T11:54:42.117Z"
   },
   {
    "duration": 6,
    "start_time": "2022-08-03T11:54:44.524Z"
   },
   {
    "duration": 3429,
    "start_time": "2022-08-03T11:54:47.435Z"
   },
   {
    "duration": 3918,
    "start_time": "2022-08-03T11:55:29.116Z"
   },
   {
    "duration": 3,
    "start_time": "2022-08-03T11:55:43.019Z"
   },
   {
    "duration": 2130,
    "start_time": "2022-08-03T11:55:44.125Z"
   },
   {
    "duration": 1016,
    "start_time": "2022-08-03T11:58:38.430Z"
   },
   {
    "duration": 1202,
    "start_time": "2022-08-03T12:06:52.597Z"
   },
   {
    "duration": 768,
    "start_time": "2022-08-03T12:06:54.837Z"
   },
   {
    "duration": 119,
    "start_time": "2022-08-03T12:06:55.606Z"
   },
   {
    "duration": 23,
    "start_time": "2022-08-03T12:06:57.089Z"
   },
   {
    "duration": 73,
    "start_time": "2022-08-03T12:06:59.329Z"
   },
   {
    "duration": 12758,
    "start_time": "2022-08-03T12:07:00.954Z"
   },
   {
    "duration": 12602,
    "start_time": "2022-08-03T12:07:15.034Z"
   },
   {
    "duration": 12743,
    "start_time": "2022-08-03T12:07:29.043Z"
   },
   {
    "duration": 88,
    "start_time": "2022-08-03T12:07:41.788Z"
   },
   {
    "duration": 358,
    "start_time": "2022-08-03T12:07:45.753Z"
   },
   {
    "duration": 241,
    "start_time": "2022-08-03T12:07:46.924Z"
   },
   {
    "duration": 1039,
    "start_time": "2022-08-03T12:07:48.650Z"
   },
   {
    "duration": 34,
    "start_time": "2022-08-03T12:07:50.562Z"
   },
   {
    "duration": 10,
    "start_time": "2022-08-03T12:07:53.330Z"
   },
   {
    "duration": 8,
    "start_time": "2022-08-03T12:07:53.788Z"
   },
   {
    "duration": 31,
    "start_time": "2022-08-03T12:07:54.430Z"
   },
   {
    "duration": 12,
    "start_time": "2022-08-03T12:07:55.746Z"
   },
   {
    "duration": 28,
    "start_time": "2022-08-03T12:07:56.266Z"
   },
   {
    "duration": 4,
    "start_time": "2022-08-03T12:07:56.824Z"
   },
   {
    "duration": 36,
    "start_time": "2022-08-03T12:07:57.424Z"
   },
   {
    "duration": 1220,
    "start_time": "2022-08-03T12:08:01.146Z"
   },
   {
    "duration": 315,
    "start_time": "2022-08-03T12:08:06.074Z"
   },
   {
    "duration": 3,
    "start_time": "2022-08-03T12:08:20.578Z"
   },
   {
    "duration": 142,
    "start_time": "2022-08-03T12:08:21.135Z"
   },
   {
    "duration": 10,
    "start_time": "2022-08-03T12:08:22.051Z"
   },
   {
    "duration": 457,
    "start_time": "2022-08-03T12:08:22.674Z"
   },
   {
    "duration": 53,
    "start_time": "2022-08-03T12:08:23.779Z"
   },
   {
    "duration": 3,
    "start_time": "2022-08-03T12:08:35.138Z"
   },
   {
    "duration": 3178,
    "start_time": "2022-08-03T12:08:43.075Z"
   },
   {
    "duration": 3,
    "start_time": "2022-08-03T12:09:19.339Z"
   },
   {
    "duration": 111,
    "start_time": "2022-08-03T12:09:19.860Z"
   },
   {
    "duration": 3,
    "start_time": "2022-08-03T12:09:20.475Z"
   },
   {
    "duration": 3,
    "start_time": "2022-08-03T12:09:24.441Z"
   },
   {
    "duration": 42615,
    "start_time": "2022-08-03T12:09:25.587Z"
   },
   {
    "duration": 3,
    "start_time": "2022-08-03T12:10:29.725Z"
   },
   {
    "duration": 6,
    "start_time": "2022-08-03T12:10:30.276Z"
   },
   {
    "duration": 12,
    "start_time": "2022-08-03T12:10:32.325Z"
   },
   {
    "duration": 469,
    "start_time": "2022-08-03T12:10:32.995Z"
   },
   {
    "duration": 64,
    "start_time": "2022-08-03T12:10:33.579Z"
   },
   {
    "duration": 2,
    "start_time": "2022-08-03T12:10:35.737Z"
   },
   {
    "duration": 113,
    "start_time": "2022-08-03T12:10:36.441Z"
   },
   {
    "duration": 3,
    "start_time": "2022-08-03T12:10:37.333Z"
   },
   {
    "duration": 2,
    "start_time": "2022-08-03T12:10:40.867Z"
   },
   {
    "duration": 41022,
    "start_time": "2022-08-03T12:10:41.779Z"
   },
   {
    "duration": 225,
    "start_time": "2022-08-03T12:11:26.276Z"
   },
   {
    "duration": 5,
    "start_time": "2022-08-03T12:11:27.780Z"
   },
   {
    "duration": 2049,
    "start_time": "2022-08-03T12:11:29.652Z"
   },
   {
    "duration": 2484,
    "start_time": "2022-08-03T12:11:56.815Z"
   },
   {
    "duration": 3,
    "start_time": "2022-08-03T12:12:18.644Z"
   },
   {
    "duration": 1313,
    "start_time": "2022-08-03T12:12:22.485Z"
   },
   {
    "duration": 2,
    "start_time": "2022-08-03T12:13:10.333Z"
   },
   {
    "duration": 7,
    "start_time": "2022-08-03T12:13:12.025Z"
   },
   {
    "duration": 14,
    "start_time": "2022-08-03T12:13:12.749Z"
   },
   {
    "duration": 468,
    "start_time": "2022-08-03T12:13:13.453Z"
   },
   {
    "duration": 60,
    "start_time": "2022-08-03T12:13:14.061Z"
   },
   {
    "duration": 3,
    "start_time": "2022-08-03T12:13:16.301Z"
   },
   {
    "duration": 117,
    "start_time": "2022-08-03T12:13:17.245Z"
   },
   {
    "duration": 3,
    "start_time": "2022-08-03T12:13:18.102Z"
   },
   {
    "duration": 3,
    "start_time": "2022-08-03T12:13:21.356Z"
   },
   {
    "duration": 43885,
    "start_time": "2022-08-03T12:13:22.520Z"
   },
   {
    "duration": 297,
    "start_time": "2022-08-03T12:14:06.409Z"
   },
   {
    "duration": 5,
    "start_time": "2022-08-03T12:14:11.374Z"
   },
   {
    "duration": 3552,
    "start_time": "2022-08-03T12:14:13.382Z"
   }
  ],
  "kernelspec": {
   "display_name": "Python 3 (ipykernel)",
   "language": "python",
   "name": "python3"
  },
  "language_info": {
   "codemirror_mode": {
    "name": "ipython",
    "version": 3
   },
   "file_extension": ".py",
   "mimetype": "text/x-python",
   "name": "python",
   "nbconvert_exporter": "python",
   "pygments_lexer": "ipython3",
   "version": "3.9.12"
  },
  "toc": {
   "base_numbering": 1,
   "nav_menu": {},
   "number_sections": true,
   "sideBar": true,
   "skip_h1_title": true,
   "title_cell": "Table of Contents",
   "title_sidebar": "Contents",
   "toc_cell": false,
   "toc_position": {},
   "toc_section_display": true,
   "toc_window_display": false
  }
 },
 "nbformat": 4,
 "nbformat_minor": 2
}
